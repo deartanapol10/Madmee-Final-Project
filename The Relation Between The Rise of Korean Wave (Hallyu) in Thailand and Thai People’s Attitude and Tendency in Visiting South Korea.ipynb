{
 "cells": [
  {
   "cell_type": "markdown",
   "metadata": {},
   "source": [
    "# Analysis on The Relation Between The Rise of Korean Wave (Hallyu) in Thailand and Thai People’s Attitude and Tendency in Visiting South Korea"
   ]
  },
  {
   "cell_type": "markdown",
   "metadata": {},
   "source": [
    "------------"
   ]
  },
  {
   "cell_type": "markdown",
   "metadata": {},
   "source": [
    "> Import some useful libraries"
   ]
  },
  {
   "cell_type": "code",
   "execution_count": 1,
   "metadata": {},
   "outputs": [],
   "source": [
    "import pandas as pd\n",
    "import seaborn as sns\n",
    "import matplotlib.pyplot as plt\n",
    "import numpy as np\n",
    "%matplotlib inline"
   ]
  },
  {
   "cell_type": "markdown",
   "metadata": {},
   "source": [
    "> Export the collected data from __[Google Docs](https://docs.google.com/forms/d/e/1FAIpQLSczee1CkfgpVCRRgNr0sqGynRP1Kx5YiYjGvZXPotc7tH9NXw/viewform)__\n",
    "\n",
    ">then save to .csv file and finally import to this jupyter notebook"
   ]
  },
  {
   "cell_type": "code",
   "execution_count": 2,
   "metadata": {},
   "outputs": [],
   "source": [
    "data = pd.read_csv('data.csv')"
   ]
  },
  {
   "cell_type": "markdown",
   "metadata": {},
   "source": [
    "------------"
   ]
  },
  {
   "cell_type": "markdown",
   "metadata": {},
   "source": [
    "> ในการวิเคราะห์ข้อมูลจากฐานข้อมูลที่ได้ทำการเก็บรวบรวมมา ผู้จัดทำจะแบ่งการดำเนินการออกเป็น 2 ส่วนหลักๆ คือ\n",
    "1. Data Cleaning & Preparation\n",
    "2. Data Analysis & Visualization"
   ]
  },
  {
   "cell_type": "markdown",
   "metadata": {},
   "source": [
    "# `Data Cleaning & Preparation`"
   ]
  },
  {
   "cell_type": "markdown",
   "metadata": {},
   "source": [
    "> Check the `data` columns"
   ]
  },
  {
   "cell_type": "code",
   "execution_count": 3,
   "metadata": {},
   "outputs": [
    {
     "data": {
      "text/plain": [
       "Index(['Timestamp', '1. Age อายุ', '2. Gender เพศ', '3. Residence ถิ่นที่อยู่',\n",
       "       '4. Have you ever consumed any Korean media products, as follows? คุณเคยบริโภคสื่อบันเทิงจากประเทศเกาหลีใต้ข้างต้นหรือไม่? [Korean dramas ซีรีส์เกาหลี]',\n",
       "       '4. Have you ever consumed any Korean media products, as follows? คุณเคยบริโภคสื่อบันเทิงจากประเทศเกาหลีใต้ข้างต้นหรือไม่? [Korean songs เพลงเกาหลี]',\n",
       "       '4. Have you ever consumed any Korean media products, as follows? คุณเคยบริโภคสื่อบันเทิงจากประเทศเกาหลีใต้ข้างต้นหรือไม่? [Korean films ภาพยนตร์เกาหลี]',\n",
       "       '5. How long have you been exposed to Korean Wave? (Please provide your answer in the unit of month or year) คุณได้รู้จัก/คุ้นเคยกับกระแสนิยมเกาหลีเป็นเวลานานเท่าไรแล้ว? (กรุณาระบุช่วงเวลาเป็นเดือนหรือปี)',\n",
       "       '6. Do you enjoy Korean media products? คุณชื่นชอบสื่อบันเทิงจากประเทศเกาหลีใต้หรือไม่?',\n",
       "       '7. If you enjoy Korean media products, then how often do you consume Korean media products in a typical week? คุณบริโภคสื่อบันเทิงเกาหลีใต้บ่อยแค่ไหน?',\n",
       "       '8. For what purpose do you enjoy Korean media products? (Please rate your subjective agreement on the provided statements) ด้วยเหตุผลใดคุณจึงชื่นชอบสื่อบันเทิงจากประเทศเกาหลีใต้? (กรุณาเลือกระดับความเห็นด้วยในทุกๆข้อ) [Because I like the products เพราะว่าชอบตัวสื่อบันเทิงจากประเทศเกาหลีใต้]',\n",
       "       '8. For what purpose do you enjoy Korean media products? (Please rate your subjective agreement on the provided statements) ด้วยเหตุผลใดคุณจึงชื่นชอบสื่อบันเทิงจากประเทศเกาหลีใต้? (กรุณาเลือกระดับความเห็นด้วยในทุกๆข้อ) [Because the products are popular among the peers เพราะว่าสื่อประเทศเกาหลีใต้เป็นที่นิยมในหมู่คนรู้จัก]',\n",
       "       '8. For what purpose do you enjoy Korean media products? (Please rate your subjective agreement on the provided statements) ด้วยเหตุผลใดคุณจึงชื่นชอบสื่อบันเทิงจากประเทศเกาหลีใต้? (กรุณาเลือกระดับความเห็นด้วยในทุกๆข้อ) [Because my friends recommended เพราะว่ามีคนรู้จักแนะนำ]',\n",
       "       '8. For what purpose do you enjoy Korean media products? (Please rate your subjective agreement on the provided statements) ด้วยเหตุผลใดคุณจึงชื่นชอบสื่อบันเทิงจากประเทศเกาหลีใต้? (กรุณาเลือกระดับความเห็นด้วยในทุกๆข้อ) [For time-killing purpose เพื่อฆ่าเวลา]',\n",
       "       '8. For what purpose do you enjoy Korean media products? (Please rate your subjective agreement on the provided statements) ด้วยเหตุผลใดคุณจึงชื่นชอบสื่อบันเทิงจากประเทศเกาหลีใต้? (กรุณาเลือกระดับความเห็นด้วยในทุกๆข้อ) [Because I like to learn Korean language เพราะว่าต้องการเรียนภาษาเกาหลี]',\n",
       "       '8. For what purpose do you enjoy Korean media products? (Please rate your subjective agreement on the provided statements) ด้วยเหตุผลใดคุณจึงชื่นชอบสื่อบันเทิงจากประเทศเกาหลีใต้? (กรุณาเลือกระดับความเห็นด้วยในทุกๆข้อ) [Because I want to know about Korean society and culture เพราะว่าต้องการเรียนรู้วัฒนธรรมเกาหลี]',\n",
       "       '9. How much are you satisfied with the quality of Korean media products?  ระดับความพึงพอใจในคุณภาพของสื่อบันเทิงเกาหลีใต้',\n",
       "       '10. When you think about South Korea, how do you feel?  เมื่อนึกถึงประเทศเกาหลีใต้ คุณรู้สึกว่าประเทศเกาหลีใต้เป็นประเทศอย่างไร?',\n",
       "       '11. Imagine that you meet a South Korean. In your mind, how is the South Korean? สมมติว่าคุณได้มีโอกาสพบกับคนเกาหลี คุณคิดว่าคนเกาหลีใต้เป็นคนอย่างไร?',\n",
       "       '12. Have you ever visited South Korea before? คุณเคยไปประเทศเกาหลีใต้หรือไม่?',\n",
       "       '13. If YES, do you want to re-visit South Korea again? ถ้าเคยไปประเทศเกาหลีใต้มาก่อน อยากจะกลับไปอีกครั้งหรือไม่?',\n",
       "       '14. If NO, have you ever planned to visit South Korea in the future? ถ้าไม่เคยไปประเทศเกาหลีใต้มาก่อน อยากจะลองไปสักครั้งหรือไม่?',\n",
       "       '15. How many Korean friends do you have?  (Please provide your answer in cardinal number if possible) คุณมีเพื่อนชาวเกาหลีใต้ประมาณกี่คน? ',\n",
       "       '16. Can you speak some Korean words?  คุณสามารถพูดภาษาเกาหลีได้หรือไม่?',\n",
       "       '17. If YES, how proficient is your Korean? ถ้าคุณสามารถพูดภาษาเกาหลีได้ ความสามารถทางภาษาเกาหลีของคุณอยู่ในระดับใด?'],\n",
       "      dtype='object')"
      ]
     },
     "execution_count": 3,
     "metadata": {},
     "output_type": "execute_result"
    }
   ],
   "source": [
    "data.columns"
   ]
  },
  {
   "cell_type": "markdown",
   "metadata": {},
   "source": [
    "> เนื่องจากชื่อในแต่ละ Column มีความอ่านยากและใช้ถึง 2 ภาษาด้วยกัน<br>\n",
    "จึงทำการปรับชื่อในแต่ละ Column ใหม่ ให้อ่านง่ายและอยู่ในฟอร์มภาษาอังกฤษล้วน"
   ]
  },
  {
   "cell_type": "code",
   "execution_count": 4,
   "metadata": {},
   "outputs": [],
   "source": [
    "data.columns = ['Timestamp', 'Age', 'Gender', 'Residence', \\\n",
    "                'Have you ever consumed any Korean Dramas?', \\\n",
    "                'Have you ever consumed any Korean Songs?', \\\n",
    "                'Have you ever consumed any Korean Films?', \\\n",
    "                'How long have you been exposed to Korean Wave?', \\\n",
    "                'Do you enjoy Korean media products?', \\\n",
    "                'How often do you consume Korean media products in a typical week?', \\\n",
    "                'Enjoy Korean media products because I like the products', \\\n",
    "                'Enjoy Korean media products because the products are popular among the peers', \\\n",
    "                'Enjoy Korean media products because my friends recommended', \\\n",
    "                'Enjoy Korean media products for time-killing purpose', \\\n",
    "                'Enjoy Korean media products because I like to learn Korean language', \\\n",
    "                'Enjoy Korean media products because I want to know about Korean society and culture', \\\n",
    "                'How much are you satisfied with the quality of Korean media products?', \\\n",
    "                'When you think about South Korea, how do you feel?', \\\n",
    "                'Imagine that you meet a South Korean. In your mind, how is the South Korean?', \\\n",
    "                'Have you ever visited South Korea before?', \\\n",
    "                'If YES, do you want to re-visit South Korea again?', \\\n",
    "                'If NO, have you ever planned to visit South Korea in the future?', \\\n",
    "                'How many Korean friends do you have?', \\\n",
    "                'Can you speak some Korean words?', \\\n",
    "                'If YES, how proficient is your Korean?']"
   ]
  },
  {
   "cell_type": "code",
   "execution_count": 5,
   "metadata": {},
   "outputs": [
    {
     "data": {
      "text/plain": [
       "Index(['Timestamp', 'Age', 'Gender', 'Residence',\n",
       "       'Have you ever consumed any Korean Dramas?',\n",
       "       'Have you ever consumed any Korean Songs?',\n",
       "       'Have you ever consumed any Korean Films?',\n",
       "       'How long have you been exposed to Korean Wave?',\n",
       "       'Do you enjoy Korean media products?',\n",
       "       'How often do you consume Korean media products in a typical week?',\n",
       "       'Enjoy Korean media products because I like the products',\n",
       "       'Enjoy Korean media products because the products are popular among the peers',\n",
       "       'Enjoy Korean media products because my friends recommended',\n",
       "       'Enjoy Korean media products for time-killing purpose',\n",
       "       'Enjoy Korean media products because I like to learn Korean language',\n",
       "       'Enjoy Korean media products because I want to know about Korean society and culture',\n",
       "       'How much are you satisfied with the quality of Korean media products?',\n",
       "       'When you think about South Korea, how do you feel?',\n",
       "       'Imagine that you meet a South Korean. In your mind, how is the South Korean?',\n",
       "       'Have you ever visited South Korea before?',\n",
       "       'If YES, do you want to re-visit South Korea again?',\n",
       "       'If NO, have you ever planned to visit South Korea in the future?',\n",
       "       'How many Korean friends do you have?',\n",
       "       'Can you speak some Korean words?',\n",
       "       'If YES, how proficient is your Korean?'],\n",
       "      dtype='object')"
      ]
     },
     "execution_count": 5,
     "metadata": {},
     "output_type": "execute_result"
    }
   ],
   "source": [
    "data.columns"
   ]
  },
  {
   "cell_type": "markdown",
   "metadata": {},
   "source": [
    "> ทำการ drop column บางอันที่ไม่จำเป็นต่อการวิเคราะห์ของ `data` ออกไป"
   ]
  },
  {
   "cell_type": "code",
   "execution_count": 6,
   "metadata": {},
   "outputs": [],
   "source": [
    "data.drop(['Timestamp', 'How long have you been exposed to Korean Wave?',\\\n",
    "           'When you think about South Korea, how do you feel?',\\\n",
    "           'How many Korean friends do you have?',\\\n",
    "           'Can you speak some Korean words?',\\\n",
    "           'If YES, how proficient is your Korean?'], axis=1, inplace=True)"
   ]
  },
  {
   "cell_type": "markdown",
   "metadata": {},
   "source": [
    "> ตรวจเช็คความเรียบร้อยของ `data` หลังจาก drop เสร็จ"
   ]
  },
  {
   "cell_type": "code",
   "execution_count": 7,
   "metadata": {},
   "outputs": [
    {
     "data": {
      "text/html": [
       "<div>\n",
       "<style scoped>\n",
       "    .dataframe tbody tr th:only-of-type {\n",
       "        vertical-align: middle;\n",
       "    }\n",
       "\n",
       "    .dataframe tbody tr th {\n",
       "        vertical-align: top;\n",
       "    }\n",
       "\n",
       "    .dataframe thead th {\n",
       "        text-align: right;\n",
       "    }\n",
       "</style>\n",
       "<table border=\"1\" class=\"dataframe\">\n",
       "  <thead>\n",
       "    <tr style=\"text-align: right;\">\n",
       "      <th></th>\n",
       "      <th>Age</th>\n",
       "      <th>Gender</th>\n",
       "      <th>Residence</th>\n",
       "      <th>Have you ever consumed any Korean Dramas?</th>\n",
       "      <th>Have you ever consumed any Korean Songs?</th>\n",
       "      <th>Have you ever consumed any Korean Films?</th>\n",
       "      <th>Do you enjoy Korean media products?</th>\n",
       "      <th>How often do you consume Korean media products in a typical week?</th>\n",
       "      <th>Enjoy Korean media products because I like the products</th>\n",
       "      <th>Enjoy Korean media products because the products are popular among the peers</th>\n",
       "      <th>Enjoy Korean media products because my friends recommended</th>\n",
       "      <th>Enjoy Korean media products for time-killing purpose</th>\n",
       "      <th>Enjoy Korean media products because I like to learn Korean language</th>\n",
       "      <th>Enjoy Korean media products because I want to know about Korean society and culture</th>\n",
       "      <th>How much are you satisfied with the quality of Korean media products?</th>\n",
       "      <th>Imagine that you meet a South Korean. In your mind, how is the South Korean?</th>\n",
       "      <th>Have you ever visited South Korea before?</th>\n",
       "      <th>If YES, do you want to re-visit South Korea again?</th>\n",
       "      <th>If NO, have you ever planned to visit South Korea in the future?</th>\n",
       "    </tr>\n",
       "  </thead>\n",
       "  <tbody>\n",
       "    <tr>\n",
       "      <th>0</th>\n",
       "      <td>21</td>\n",
       "      <td>Female  หญิง</td>\n",
       "      <td>Bangkok กรุงเทพมหานคร</td>\n",
       "      <td>Yes ใช่</td>\n",
       "      <td>Yes ใช่</td>\n",
       "      <td>Yes ใช่</td>\n",
       "      <td>Yes  ชอบ</td>\n",
       "      <td>Everyday ทุกวัน</td>\n",
       "      <td>Agree เห็นด้วย</td>\n",
       "      <td>Agree เห็นด้วย</td>\n",
       "      <td>Agree เห็นด้วย</td>\n",
       "      <td>Agree เห็นด้วย</td>\n",
       "      <td>Agree เห็นด้วย</td>\n",
       "      <td>Neither disagree nor agree กลางๆ</td>\n",
       "      <td>Satisfied พอใจ</td>\n",
       "      <td>Just a person เป็นเพียงคนๆหนึ่ง</td>\n",
       "      <td>Yes  เคย</td>\n",
       "      <td>Yes อยาก</td>\n",
       "      <td>NaN</td>\n",
       "    </tr>\n",
       "    <tr>\n",
       "      <th>1</th>\n",
       "      <td>54</td>\n",
       "      <td>Female  หญิง</td>\n",
       "      <td>Bangkok กรุงเทพมหานคร</td>\n",
       "      <td>Yes ใช่</td>\n",
       "      <td>Yes ใช่</td>\n",
       "      <td>Yes ใช่</td>\n",
       "      <td>Yes  ชอบ</td>\n",
       "      <td>One day per week  1 วันต่อสัปดาห์</td>\n",
       "      <td>Agree เห็นด้วย</td>\n",
       "      <td>Agree เห็นด้วย</td>\n",
       "      <td>Agree เห็นด้วย</td>\n",
       "      <td>Disagree ไม่เห็นด้วย</td>\n",
       "      <td>Disagree ไม่เห็นด้วย</td>\n",
       "      <td>Neither disagree nor agree กลางๆ</td>\n",
       "      <td>Satisfied พอใจ</td>\n",
       "      <td>Just a person เป็นเพียงคนๆหนึ่ง</td>\n",
       "      <td>Yes  เคย</td>\n",
       "      <td>Yes อยาก</td>\n",
       "      <td>Yes อยาก</td>\n",
       "    </tr>\n",
       "    <tr>\n",
       "      <th>2</th>\n",
       "      <td>22</td>\n",
       "      <td>Female  หญิง</td>\n",
       "      <td>Bangkok กรุงเทพมหานคร</td>\n",
       "      <td>Yes ใช่</td>\n",
       "      <td>Yes ใช่</td>\n",
       "      <td>Yes ใช่</td>\n",
       "      <td>Yes  ชอบ</td>\n",
       "      <td>Everyday ทุกวัน</td>\n",
       "      <td>Neither disagree nor agree กลางๆ</td>\n",
       "      <td>Neither disagree nor agree กลางๆ</td>\n",
       "      <td>Neither disagree nor agree กลางๆ</td>\n",
       "      <td>Neither disagree nor agree กลางๆ</td>\n",
       "      <td>Neither disagree nor agree กลางๆ</td>\n",
       "      <td>Neither disagree nor agree กลางๆ</td>\n",
       "      <td>Neither satisfied nor dissatisfied ปานกลาง</td>\n",
       "      <td>Just a person เป็นเพียงคนๆหนึ่ง</td>\n",
       "      <td>Yes  เคย</td>\n",
       "      <td>Yes อยาก</td>\n",
       "      <td>Yes อยาก</td>\n",
       "    </tr>\n",
       "    <tr>\n",
       "      <th>3</th>\n",
       "      <td>19</td>\n",
       "      <td>Female  หญิง</td>\n",
       "      <td>Other cities  ต่างจังหวัด</td>\n",
       "      <td>Yes ใช่</td>\n",
       "      <td>Yes ใช่</td>\n",
       "      <td>Yes ใช่</td>\n",
       "      <td>Yes  ชอบ</td>\n",
       "      <td>Three days per week  3 วันต่อสัปดาห์</td>\n",
       "      <td>Agree เห็นด้วย</td>\n",
       "      <td>Neither disagree nor agree กลางๆ</td>\n",
       "      <td>Neither disagree nor agree กลางๆ</td>\n",
       "      <td>Agree เห็นด้วย</td>\n",
       "      <td>Agree เห็นด้วย</td>\n",
       "      <td>Agree เห็นด้วย</td>\n",
       "      <td>Satisfied พอใจ</td>\n",
       "      <td>Good person เป็นคนดี</td>\n",
       "      <td>Yes  เคย</td>\n",
       "      <td>Yes อยาก</td>\n",
       "      <td>Yes อยาก</td>\n",
       "    </tr>\n",
       "  </tbody>\n",
       "</table>\n",
       "</div>"
      ],
      "text/plain": [
       "  Age        Gender                  Residence  \\\n",
       "0  21  Female  หญิง      Bangkok กรุงเทพมหานคร   \n",
       "1  54  Female  หญิง      Bangkok กรุงเทพมหานคร   \n",
       "2  22  Female  หญิง      Bangkok กรุงเทพมหานคร   \n",
       "3  19  Female  หญิง  Other cities  ต่างจังหวัด   \n",
       "\n",
       "  Have you ever consumed any Korean Dramas?  \\\n",
       "0                                   Yes ใช่   \n",
       "1                                   Yes ใช่   \n",
       "2                                   Yes ใช่   \n",
       "3                                   Yes ใช่   \n",
       "\n",
       "  Have you ever consumed any Korean Songs?  \\\n",
       "0                                  Yes ใช่   \n",
       "1                                  Yes ใช่   \n",
       "2                                  Yes ใช่   \n",
       "3                                  Yes ใช่   \n",
       "\n",
       "  Have you ever consumed any Korean Films?  \\\n",
       "0                                  Yes ใช่   \n",
       "1                                  Yes ใช่   \n",
       "2                                  Yes ใช่   \n",
       "3                                  Yes ใช่   \n",
       "\n",
       "  Do you enjoy Korean media products?  \\\n",
       "0                            Yes  ชอบ   \n",
       "1                            Yes  ชอบ   \n",
       "2                            Yes  ชอบ   \n",
       "3                            Yes  ชอบ   \n",
       "\n",
       "  How often do you consume Korean media products in a typical week?  \\\n",
       "0                                    Everyday ทุกวัน                  \n",
       "1                  One day per week  1 วันต่อสัปดาห์                  \n",
       "2                                    Everyday ทุกวัน                  \n",
       "3               Three days per week  3 วันต่อสัปดาห์                  \n",
       "\n",
       "  Enjoy Korean media products because I like the products  \\\n",
       "0                                     Agree เห็นด้วย        \n",
       "1                                     Agree เห็นด้วย        \n",
       "2                   Neither disagree nor agree กลางๆ        \n",
       "3                                     Agree เห็นด้วย        \n",
       "\n",
       "  Enjoy Korean media products because the products are popular among the peers  \\\n",
       "0                                     Agree เห็นด้วย                             \n",
       "1                                     Agree เห็นด้วย                             \n",
       "2                   Neither disagree nor agree กลางๆ                             \n",
       "3                   Neither disagree nor agree กลางๆ                             \n",
       "\n",
       "  Enjoy Korean media products because my friends recommended  \\\n",
       "0                                     Agree เห็นด้วย           \n",
       "1                                     Agree เห็นด้วย           \n",
       "2                   Neither disagree nor agree กลางๆ           \n",
       "3                   Neither disagree nor agree กลางๆ           \n",
       "\n",
       "  Enjoy Korean media products for time-killing purpose  \\\n",
       "0                                     Agree เห็นด้วย     \n",
       "1                               Disagree ไม่เห็นด้วย     \n",
       "2                   Neither disagree nor agree กลางๆ     \n",
       "3                                     Agree เห็นด้วย     \n",
       "\n",
       "  Enjoy Korean media products because I like to learn Korean language  \\\n",
       "0                                     Agree เห็นด้วย                    \n",
       "1                               Disagree ไม่เห็นด้วย                    \n",
       "2                   Neither disagree nor agree กลางๆ                    \n",
       "3                                     Agree เห็นด้วย                    \n",
       "\n",
       "  Enjoy Korean media products because I want to know about Korean society and culture  \\\n",
       "0                   Neither disagree nor agree กลางๆ                                    \n",
       "1                   Neither disagree nor agree กลางๆ                                    \n",
       "2                   Neither disagree nor agree กลางๆ                                    \n",
       "3                                     Agree เห็นด้วย                                    \n",
       "\n",
       "  How much are you satisfied with the quality of Korean media products?  \\\n",
       "0                                     Satisfied พอใจ                      \n",
       "1                                     Satisfied พอใจ                      \n",
       "2         Neither satisfied nor dissatisfied ปานกลาง                      \n",
       "3                                     Satisfied พอใจ                      \n",
       "\n",
       "  Imagine that you meet a South Korean. In your mind, how is the South Korean?  \\\n",
       "0                    Just a person เป็นเพียงคนๆหนึ่ง                             \n",
       "1                    Just a person เป็นเพียงคนๆหนึ่ง                             \n",
       "2                    Just a person เป็นเพียงคนๆหนึ่ง                             \n",
       "3                               Good person เป็นคนดี                             \n",
       "\n",
       "  Have you ever visited South Korea before?  \\\n",
       "0                                  Yes  เคย   \n",
       "1                                  Yes  เคย   \n",
       "2                                  Yes  เคย   \n",
       "3                                  Yes  เคย   \n",
       "\n",
       "  If YES, do you want to re-visit South Korea again?  \\\n",
       "0                                           Yes อยาก   \n",
       "1                                           Yes อยาก   \n",
       "2                                           Yes อยาก   \n",
       "3                                           Yes อยาก   \n",
       "\n",
       "  If NO, have you ever planned to visit South Korea in the future?  \n",
       "0                                                NaN                \n",
       "1                                           Yes อยาก                \n",
       "2                                           Yes อยาก                \n",
       "3                                           Yes อยาก                "
      ]
     },
     "execution_count": 7,
     "metadata": {},
     "output_type": "execute_result"
    }
   ],
   "source": [
    "data.head(4)"
   ]
  },
  {
   "cell_type": "markdown",
   "metadata": {},
   "source": [
    "> ทำการลบภาษาไทยออกจากทุกๆ cell ใน `data`"
   ]
  },
  {
   "cell_type": "code",
   "execution_count": 8,
   "metadata": {},
   "outputs": [],
   "source": [
    "for n in range (len(data.columns)) :\n",
    "    if data[data.columns[n]].isnull().sum() == 0 :\n",
    "        if len(data.iloc[0, n].split(' ')) > 1 :\n",
    "            data[data.columns[n]] = [data.iloc[i, n].split(' ')[: -1] for i, j in enumerate(data[data.columns[n]])]\n",
    "            data[data.columns[n]] = [' '.join(data.iloc[i, n]).strip() for i, j in enumerate(data[data.columns[n]])]"
   ]
  },
  {
   "cell_type": "markdown",
   "metadata": {},
   "source": [
    "> ทำการแก้ไขข้อมูลที่ไม่สมบูรณ์ของ column `Age` ใน `data` "
   ]
  },
  {
   "cell_type": "code",
   "execution_count": 9,
   "metadata": {},
   "outputs": [
    {
     "data": {
      "text/plain": [
       "0         21\n",
       "1         54\n",
       "2         22\n",
       "3         19\n",
       "4         22\n",
       "5         21\n",
       "6         22\n",
       "7         44\n",
       "8         50\n",
       "9         32\n",
       "10        29\n",
       "11        27\n",
       "12        25\n",
       "13        22\n",
       "14        36\n",
       "15        41\n",
       "16        33\n",
       "17        24\n",
       "18        56\n",
       "19        37\n",
       "20        22\n",
       "21        21\n",
       "22        34\n",
       "23        21\n",
       "24        22\n",
       "25        23\n",
       "26     47 ปี\n",
       "27        22\n",
       "28        23\n",
       "29        21\n",
       "       ...  \n",
       "247       30\n",
       "248       34\n",
       "249       21\n",
       "250    54 ปี\n",
       "251       61\n",
       "252       19\n",
       "253       15\n",
       "254       20\n",
       "255       16\n",
       "256       28\n",
       "257       14\n",
       "258       19\n",
       "259       54\n",
       "260       37\n",
       "261       37\n",
       "262       19\n",
       "263       44\n",
       "264       62\n",
       "265       20\n",
       "266       20\n",
       "267       23\n",
       "268       36\n",
       "269       20\n",
       "270       18\n",
       "271       18\n",
       "272       18\n",
       "273       22\n",
       "274       20\n",
       "275       19\n",
       "276       18\n",
       "Name: Age, Length: 277, dtype: object"
      ]
     },
     "execution_count": 9,
     "metadata": {},
     "output_type": "execute_result"
    }
   ],
   "source": [
    "data['Age']"
   ]
  },
  {
   "cell_type": "code",
   "execution_count": 10,
   "metadata": {},
   "outputs": [],
   "source": [
    "data.iloc[26, 0] = '47'\n",
    "data.iloc[214, 0] = '57'\n",
    "data.iloc[250, 0] = '54'"
   ]
  },
  {
   "cell_type": "markdown",
   "metadata": {},
   "source": [
    "> ตรวจเช็คความเรียบร้อยหลังจากแก้ไขข้อมูลใน column `Age` "
   ]
  },
  {
   "cell_type": "code",
   "execution_count": 11,
   "metadata": {},
   "outputs": [
    {
     "data": {
      "text/html": [
       "<div>\n",
       "<style scoped>\n",
       "    .dataframe tbody tr th:only-of-type {\n",
       "        vertical-align: middle;\n",
       "    }\n",
       "\n",
       "    .dataframe tbody tr th {\n",
       "        vertical-align: top;\n",
       "    }\n",
       "\n",
       "    .dataframe thead th {\n",
       "        text-align: right;\n",
       "    }\n",
       "</style>\n",
       "<table border=\"1\" class=\"dataframe\">\n",
       "  <thead>\n",
       "    <tr style=\"text-align: right;\">\n",
       "      <th></th>\n",
       "      <th>Age</th>\n",
       "      <th>Gender</th>\n",
       "      <th>Residence</th>\n",
       "      <th>Have you ever consumed any Korean Dramas?</th>\n",
       "      <th>Have you ever consumed any Korean Songs?</th>\n",
       "      <th>Have you ever consumed any Korean Films?</th>\n",
       "      <th>Do you enjoy Korean media products?</th>\n",
       "      <th>How often do you consume Korean media products in a typical week?</th>\n",
       "      <th>Enjoy Korean media products because I like the products</th>\n",
       "      <th>Enjoy Korean media products because the products are popular among the peers</th>\n",
       "      <th>Enjoy Korean media products because my friends recommended</th>\n",
       "      <th>Enjoy Korean media products for time-killing purpose</th>\n",
       "      <th>Enjoy Korean media products because I like to learn Korean language</th>\n",
       "      <th>Enjoy Korean media products because I want to know about Korean society and culture</th>\n",
       "      <th>How much are you satisfied with the quality of Korean media products?</th>\n",
       "      <th>Imagine that you meet a South Korean. In your mind, how is the South Korean?</th>\n",
       "      <th>Have you ever visited South Korea before?</th>\n",
       "      <th>If YES, do you want to re-visit South Korea again?</th>\n",
       "      <th>If NO, have you ever planned to visit South Korea in the future?</th>\n",
       "    </tr>\n",
       "  </thead>\n",
       "  <tbody>\n",
       "    <tr>\n",
       "      <th>0</th>\n",
       "      <td>21</td>\n",
       "      <td>Female</td>\n",
       "      <td>Bangkok</td>\n",
       "      <td>Yes</td>\n",
       "      <td>Yes</td>\n",
       "      <td>Yes</td>\n",
       "      <td>Yes</td>\n",
       "      <td>Everyday ทุกวัน</td>\n",
       "      <td>Agree</td>\n",
       "      <td>Agree</td>\n",
       "      <td>Agree</td>\n",
       "      <td>Agree</td>\n",
       "      <td>Agree</td>\n",
       "      <td>Neither disagree nor agree</td>\n",
       "      <td>Satisfied</td>\n",
       "      <td>Just a person</td>\n",
       "      <td>Yes</td>\n",
       "      <td>Yes อยาก</td>\n",
       "      <td>NaN</td>\n",
       "    </tr>\n",
       "    <tr>\n",
       "      <th>1</th>\n",
       "      <td>54</td>\n",
       "      <td>Female</td>\n",
       "      <td>Bangkok</td>\n",
       "      <td>Yes</td>\n",
       "      <td>Yes</td>\n",
       "      <td>Yes</td>\n",
       "      <td>Yes</td>\n",
       "      <td>One day per week  1 วันต่อสัปดาห์</td>\n",
       "      <td>Agree</td>\n",
       "      <td>Agree</td>\n",
       "      <td>Agree</td>\n",
       "      <td>Disagree</td>\n",
       "      <td>Disagree</td>\n",
       "      <td>Neither disagree nor agree</td>\n",
       "      <td>Satisfied</td>\n",
       "      <td>Just a person</td>\n",
       "      <td>Yes</td>\n",
       "      <td>Yes อยาก</td>\n",
       "      <td>Yes อยาก</td>\n",
       "    </tr>\n",
       "    <tr>\n",
       "      <th>2</th>\n",
       "      <td>22</td>\n",
       "      <td>Female</td>\n",
       "      <td>Bangkok</td>\n",
       "      <td>Yes</td>\n",
       "      <td>Yes</td>\n",
       "      <td>Yes</td>\n",
       "      <td>Yes</td>\n",
       "      <td>Everyday ทุกวัน</td>\n",
       "      <td>Neither disagree nor agree</td>\n",
       "      <td>Neither disagree nor agree</td>\n",
       "      <td>Neither disagree nor agree</td>\n",
       "      <td>Neither disagree nor agree</td>\n",
       "      <td>Neither disagree nor agree</td>\n",
       "      <td>Neither disagree nor agree</td>\n",
       "      <td>Neither satisfied nor dissatisfied</td>\n",
       "      <td>Just a person</td>\n",
       "      <td>Yes</td>\n",
       "      <td>Yes อยาก</td>\n",
       "      <td>Yes อยาก</td>\n",
       "    </tr>\n",
       "    <tr>\n",
       "      <th>3</th>\n",
       "      <td>19</td>\n",
       "      <td>Female</td>\n",
       "      <td>Other cities</td>\n",
       "      <td>Yes</td>\n",
       "      <td>Yes</td>\n",
       "      <td>Yes</td>\n",
       "      <td>Yes</td>\n",
       "      <td>Three days per week  3 วันต่อสัปดาห์</td>\n",
       "      <td>Agree</td>\n",
       "      <td>Neither disagree nor agree</td>\n",
       "      <td>Neither disagree nor agree</td>\n",
       "      <td>Agree</td>\n",
       "      <td>Agree</td>\n",
       "      <td>Agree</td>\n",
       "      <td>Satisfied</td>\n",
       "      <td>Good person</td>\n",
       "      <td>Yes</td>\n",
       "      <td>Yes อยาก</td>\n",
       "      <td>Yes อยาก</td>\n",
       "    </tr>\n",
       "  </tbody>\n",
       "</table>\n",
       "</div>"
      ],
      "text/plain": [
       "  Age  Gender     Residence Have you ever consumed any Korean Dramas?  \\\n",
       "0  21  Female       Bangkok                                       Yes   \n",
       "1  54  Female       Bangkok                                       Yes   \n",
       "2  22  Female       Bangkok                                       Yes   \n",
       "3  19  Female  Other cities                                       Yes   \n",
       "\n",
       "  Have you ever consumed any Korean Songs?  \\\n",
       "0                                      Yes   \n",
       "1                                      Yes   \n",
       "2                                      Yes   \n",
       "3                                      Yes   \n",
       "\n",
       "  Have you ever consumed any Korean Films?  \\\n",
       "0                                      Yes   \n",
       "1                                      Yes   \n",
       "2                                      Yes   \n",
       "3                                      Yes   \n",
       "\n",
       "  Do you enjoy Korean media products?  \\\n",
       "0                                 Yes   \n",
       "1                                 Yes   \n",
       "2                                 Yes   \n",
       "3                                 Yes   \n",
       "\n",
       "  How often do you consume Korean media products in a typical week?  \\\n",
       "0                                    Everyday ทุกวัน                  \n",
       "1                  One day per week  1 วันต่อสัปดาห์                  \n",
       "2                                    Everyday ทุกวัน                  \n",
       "3               Three days per week  3 วันต่อสัปดาห์                  \n",
       "\n",
       "  Enjoy Korean media products because I like the products  \\\n",
       "0                                              Agree        \n",
       "1                                              Agree        \n",
       "2                         Neither disagree nor agree        \n",
       "3                                              Agree        \n",
       "\n",
       "  Enjoy Korean media products because the products are popular among the peers  \\\n",
       "0                                              Agree                             \n",
       "1                                              Agree                             \n",
       "2                         Neither disagree nor agree                             \n",
       "3                         Neither disagree nor agree                             \n",
       "\n",
       "  Enjoy Korean media products because my friends recommended  \\\n",
       "0                                              Agree           \n",
       "1                                              Agree           \n",
       "2                         Neither disagree nor agree           \n",
       "3                         Neither disagree nor agree           \n",
       "\n",
       "  Enjoy Korean media products for time-killing purpose  \\\n",
       "0                                              Agree     \n",
       "1                                           Disagree     \n",
       "2                         Neither disagree nor agree     \n",
       "3                                              Agree     \n",
       "\n",
       "  Enjoy Korean media products because I like to learn Korean language  \\\n",
       "0                                              Agree                    \n",
       "1                                           Disagree                    \n",
       "2                         Neither disagree nor agree                    \n",
       "3                                              Agree                    \n",
       "\n",
       "  Enjoy Korean media products because I want to know about Korean society and culture  \\\n",
       "0                         Neither disagree nor agree                                    \n",
       "1                         Neither disagree nor agree                                    \n",
       "2                         Neither disagree nor agree                                    \n",
       "3                                              Agree                                    \n",
       "\n",
       "  How much are you satisfied with the quality of Korean media products?  \\\n",
       "0                                          Satisfied                      \n",
       "1                                          Satisfied                      \n",
       "2                 Neither satisfied nor dissatisfied                      \n",
       "3                                          Satisfied                      \n",
       "\n",
       "  Imagine that you meet a South Korean. In your mind, how is the South Korean?  \\\n",
       "0                                      Just a person                             \n",
       "1                                      Just a person                             \n",
       "2                                      Just a person                             \n",
       "3                                        Good person                             \n",
       "\n",
       "  Have you ever visited South Korea before?  \\\n",
       "0                                       Yes   \n",
       "1                                       Yes   \n",
       "2                                       Yes   \n",
       "3                                       Yes   \n",
       "\n",
       "  If YES, do you want to re-visit South Korea again?  \\\n",
       "0                                           Yes อยาก   \n",
       "1                                           Yes อยาก   \n",
       "2                                           Yes อยาก   \n",
       "3                                           Yes อยาก   \n",
       "\n",
       "  If NO, have you ever planned to visit South Korea in the future?  \n",
       "0                                                NaN                \n",
       "1                                           Yes อยาก                \n",
       "2                                           Yes อยาก                \n",
       "3                                           Yes อยาก                "
      ]
     },
     "execution_count": 11,
     "metadata": {},
     "output_type": "execute_result"
    }
   ],
   "source": [
    "data.head(4)"
   ]
  },
  {
   "cell_type": "markdown",
   "metadata": {},
   "source": [
    "__________________"
   ]
  },
  {
   "cell_type": "markdown",
   "metadata": {},
   "source": [
    "# `Data Analysis & Data Visualization`"
   ]
  },
  {
   "cell_type": "markdown",
   "metadata": {},
   "source": [
    "> ### 0. วิเคราะห์ข้อมูลพื้นฐาน"
   ]
  },
  {
   "cell_type": "markdown",
   "metadata": {},
   "source": [
    "##### Age"
   ]
  },
  {
   "cell_type": "code",
   "execution_count": 12,
   "metadata": {},
   "outputs": [
    {
     "name": "stdout",
     "output_type": "stream",
     "text": [
      "Sample size :  277\n"
     ]
    }
   ],
   "source": [
    "print('Sample size : ', data.iloc[:, 0].count())"
   ]
  },
  {
   "cell_type": "code",
   "execution_count": 13,
   "metadata": {},
   "outputs": [
    {
     "name": "stdout",
     "output_type": "stream",
     "text": [
      "Min age : 12\n"
     ]
    }
   ],
   "source": [
    "print('Min age :', data.iloc[:, 0].min())"
   ]
  },
  {
   "cell_type": "code",
   "execution_count": 14,
   "metadata": {},
   "outputs": [
    {
     "name": "stdout",
     "output_type": "stream",
     "text": [
      "Max age : 66\n"
     ]
    }
   ],
   "source": [
    "print('Max age :', data.iloc[:, 0].max())"
   ]
  },
  {
   "cell_type": "code",
   "execution_count": 15,
   "metadata": {},
   "outputs": [
    {
     "name": "stdout",
     "output_type": "stream",
     "text": [
      "Ranges of age (Set bin=10) :\n",
      "\n",
      " (20.0, 30.0]     136\n",
      "(9.999, 20.0]     57\n",
      "(30.0, 40.0]      37\n",
      "(40.0, 50.0]      22\n",
      "(50.0, 60.0]      21\n",
      "(60.0, 70.0]       4\n",
      "Name: Age, dtype: int64\n"
     ]
    }
   ],
   "source": [
    "df_age = pd.to_numeric(data.iloc[:, 0])\n",
    "print('Ranges of age (Set bin=10) :\\n\\n', pd.value_counts(df_age, bins=np.arange(10, 71, 10)))"
   ]
  },
  {
   "cell_type": "markdown",
   "metadata": {},
   "source": [
    "##### Gender"
   ]
  },
  {
   "cell_type": "code",
   "execution_count": 16,
   "metadata": {},
   "outputs": [
    {
     "data": {
      "text/plain": [
       "Female    200\n",
       "Male       74\n",
       "Other       3\n",
       "Name: Gender, dtype: int64"
      ]
     },
     "execution_count": 16,
     "metadata": {},
     "output_type": "execute_result"
    }
   ],
   "source": [
    "pd.value_counts(data.iloc[:, 1])"
   ]
  },
  {
   "cell_type": "markdown",
   "metadata": {},
   "source": [
    "##### Residence"
   ]
  },
  {
   "cell_type": "code",
   "execution_count": 17,
   "metadata": {},
   "outputs": [
    {
     "data": {
      "text/plain": [
       "Bangkok         211\n",
       "Other cities     66\n",
       "Name: Residence, dtype: int64"
      ]
     },
     "execution_count": 17,
     "metadata": {},
     "output_type": "execute_result"
    }
   ],
   "source": [
    "pd.value_counts(data.iloc[:, 2])"
   ]
  },
  {
   "cell_type": "markdown",
   "metadata": {},
   "source": [
    "------------"
   ]
  },
  {
   "cell_type": "markdown",
   "metadata": {},
   "source": [
    "> ### 1. The ratio of Korean media products consumers according to age, gender, residence"
   ]
  },
  {
   "cell_type": "markdown",
   "metadata": {},
   "source": [
    "##### Bar plots of Korean media products consumers"
   ]
  },
  {
   "cell_type": "code",
   "execution_count": 18,
   "metadata": {},
   "outputs": [
    {
     "data": {
      "image/png": "[encoded data removed]",
      "text/plain": [
       "<Figure size 1152x432 with 3 Axes>"
      ]
     },
     "metadata": {},
     "output_type": "display_data"
    }
   ],
   "source": [
    "sns.set(style=\"darkgrid\");\n",
    "f, (ax1, ax2, ax3) = plt.subplots(1, 3, figsize=(16, 6), sharey = True);\n",
    "sns.countplot(x=data.iloc[:, 3], data=data, ax=ax1);\n",
    "sns.countplot(x=data.iloc[:, 4], data=data, ax=ax2);\n",
    "sns.countplot(x=data.iloc[:, 5], data=data, ax=ax3);"
   ]
  },
  {
   "cell_type": "markdown",
   "metadata": {},
   "source": [
    "##### Korean media products bases on Gender factor "
   ]
  },
  {
   "cell_type": "code",
   "execution_count": 19,
   "metadata": {
    "scrolled": true
   },
   "outputs": [
    {
     "data": {
      "image/png": "[encoded data removed]",
      "text/plain": [
       "<Figure size 1152x432 with 3 Axes>"
      ]
     },
     "metadata": {},
     "output_type": "display_data"
    }
   ],
   "source": [
    "f, (ax1, ax2, ax3) = plt.subplots(1, 3, figsize=(16, 6), sharey=True);\n",
    "sns.countplot(x=data.iloc[:, 1], hue=data.iloc[:, 3], data=data, ax=ax1);\n",
    "sns.countplot(x=data.iloc[:, 1], hue=data.iloc[:, 4], data=data, ax=ax2);\n",
    "sns.countplot(x=data.iloc[:, 1], hue=data.iloc[:, 5], data=data, ax=ax3);"
   ]
  },
  {
   "cell_type": "code",
   "execution_count": 20,
   "metadata": {},
   "outputs": [
    {
     "data": {
      "text/html": [
       "<div>\n",
       "<style scoped>\n",
       "    .dataframe tbody tr th:only-of-type {\n",
       "        vertical-align: middle;\n",
       "    }\n",
       "\n",
       "    .dataframe tbody tr th {\n",
       "        vertical-align: top;\n",
       "    }\n",
       "\n",
       "    .dataframe thead th {\n",
       "        text-align: right;\n",
       "    }\n",
       "</style>\n",
       "<table border=\"1\" class=\"dataframe\">\n",
       "  <thead>\n",
       "    <tr style=\"text-align: right;\">\n",
       "      <th>Gender</th>\n",
       "      <th>Female</th>\n",
       "      <th>Male</th>\n",
       "      <th>Other</th>\n",
       "    </tr>\n",
       "    <tr>\n",
       "      <th>Have you ever consumed any Korean Dramas?</th>\n",
       "      <th></th>\n",
       "      <th></th>\n",
       "      <th></th>\n",
       "    </tr>\n",
       "  </thead>\n",
       "  <tbody>\n",
       "    <tr>\n",
       "      <th>No</th>\n",
       "      <td>18</td>\n",
       "      <td>20</td>\n",
       "      <td>1</td>\n",
       "    </tr>\n",
       "    <tr>\n",
       "      <th>Yes</th>\n",
       "      <td>182</td>\n",
       "      <td>54</td>\n",
       "      <td>2</td>\n",
       "    </tr>\n",
       "  </tbody>\n",
       "</table>\n",
       "</div>"
      ],
      "text/plain": [
       "Gender                                     Female  Male  Other\n",
       "Have you ever consumed any Korean Dramas?                     \n",
       "No                                             18    20      1\n",
       "Yes                                           182    54      2"
      ]
     },
     "execution_count": 20,
     "metadata": {},
     "output_type": "execute_result"
    }
   ],
   "source": [
    "data.groupby(['Have you ever consumed any Korean Dramas?', 'Gender']).size().unstack()"
   ]
  },
  {
   "cell_type": "code",
   "execution_count": 21,
   "metadata": {},
   "outputs": [
    {
     "data": {
      "text/html": [
       "<div>\n",
       "<style scoped>\n",
       "    .dataframe tbody tr th:only-of-type {\n",
       "        vertical-align: middle;\n",
       "    }\n",
       "\n",
       "    .dataframe tbody tr th {\n",
       "        vertical-align: top;\n",
       "    }\n",
       "\n",
       "    .dataframe thead th {\n",
       "        text-align: right;\n",
       "    }\n",
       "</style>\n",
       "<table border=\"1\" class=\"dataframe\">\n",
       "  <thead>\n",
       "    <tr style=\"text-align: right;\">\n",
       "      <th>Gender</th>\n",
       "      <th>Female</th>\n",
       "      <th>Male</th>\n",
       "      <th>Other</th>\n",
       "    </tr>\n",
       "    <tr>\n",
       "      <th>Have you ever consumed any Korean Songs?</th>\n",
       "      <th></th>\n",
       "      <th></th>\n",
       "      <th></th>\n",
       "    </tr>\n",
       "  </thead>\n",
       "  <tbody>\n",
       "    <tr>\n",
       "      <th>No</th>\n",
       "      <td>36</td>\n",
       "      <td>24</td>\n",
       "      <td>2</td>\n",
       "    </tr>\n",
       "    <tr>\n",
       "      <th>Yes</th>\n",
       "      <td>164</td>\n",
       "      <td>50</td>\n",
       "      <td>1</td>\n",
       "    </tr>\n",
       "  </tbody>\n",
       "</table>\n",
       "</div>"
      ],
      "text/plain": [
       "Gender                                    Female  Male  Other\n",
       "Have you ever consumed any Korean Songs?                     \n",
       "No                                            36    24      2\n",
       "Yes                                          164    50      1"
      ]
     },
     "execution_count": 21,
     "metadata": {},
     "output_type": "execute_result"
    }
   ],
   "source": [
    "data.groupby(['Have you ever consumed any Korean Songs?', 'Gender']).size().unstack()"
   ]
  },
  {
   "cell_type": "code",
   "execution_count": 22,
   "metadata": {},
   "outputs": [
    {
     "data": {
      "text/html": [
       "<div>\n",
       "<style scoped>\n",
       "    .dataframe tbody tr th:only-of-type {\n",
       "        vertical-align: middle;\n",
       "    }\n",
       "\n",
       "    .dataframe tbody tr th {\n",
       "        vertical-align: top;\n",
       "    }\n",
       "\n",
       "    .dataframe thead th {\n",
       "        text-align: right;\n",
       "    }\n",
       "</style>\n",
       "<table border=\"1\" class=\"dataframe\">\n",
       "  <thead>\n",
       "    <tr style=\"text-align: right;\">\n",
       "      <th>Gender</th>\n",
       "      <th>Female</th>\n",
       "      <th>Male</th>\n",
       "      <th>Other</th>\n",
       "    </tr>\n",
       "    <tr>\n",
       "      <th>Have you ever consumed any Korean Films?</th>\n",
       "      <th></th>\n",
       "      <th></th>\n",
       "      <th></th>\n",
       "    </tr>\n",
       "  </thead>\n",
       "  <tbody>\n",
       "    <tr>\n",
       "      <th>No</th>\n",
       "      <td>54</td>\n",
       "      <td>21</td>\n",
       "      <td>1</td>\n",
       "    </tr>\n",
       "    <tr>\n",
       "      <th>Yes</th>\n",
       "      <td>146</td>\n",
       "      <td>53</td>\n",
       "      <td>2</td>\n",
       "    </tr>\n",
       "  </tbody>\n",
       "</table>\n",
       "</div>"
      ],
      "text/plain": [
       "Gender                                    Female  Male  Other\n",
       "Have you ever consumed any Korean Films?                     \n",
       "No                                            54    21      1\n",
       "Yes                                          146    53      2"
      ]
     },
     "execution_count": 22,
     "metadata": {},
     "output_type": "execute_result"
    }
   ],
   "source": [
    "data.groupby(['Have you ever consumed any Korean Films?', 'Gender']).size().unstack()"
   ]
  },
  {
   "cell_type": "code",
   "execution_count": 23,
   "metadata": {},
   "outputs": [
    {
     "name": "stdout",
     "output_type": "stream",
     "text": [
      "____ Korean Dramas ____\n",
      "Female = 0.91\n",
      "Male = 0.7297297297297297\n",
      "____ Korean Songs ____\n",
      "Female = 0.82\n",
      "Male = 0.6756756756756757\n",
      "____ Korean Films ____\n",
      "Female = 0.73\n",
      "Male = 0.7162162162162162\n"
     ]
    }
   ],
   "source": [
    "print('____ Korean Dramas ____')\n",
    "print('Female =', 182/200)\n",
    "print('Male =', 54/74)\n",
    "print('____ Korean Songs ____')\n",
    "print('Female =', 164/200)\n",
    "print('Male =', 50/74)\n",
    "print('____ Korean Films ____')\n",
    "print('Female =', 146/200)\n",
    "print('Male =', 53/74)"
   ]
  },
  {
   "cell_type": "markdown",
   "metadata": {},
   "source": [
    "##### Korean media products bases on Residence factor "
   ]
  },
  {
   "cell_type": "code",
   "execution_count": 24,
   "metadata": {},
   "outputs": [
    {
     "data": {
      "image/png": "[encoded data removed]",
      "text/plain": [
       "<Figure size 1152x432 with 3 Axes>"
      ]
     },
     "metadata": {},
     "output_type": "display_data"
    }
   ],
   "source": [
    "f, (ax1, ax2, ax3) = plt.subplots(1, 3, figsize=(16, 6), sharey=True);\n",
    "sns.countplot(x=data.iloc[:, 2], hue=data.iloc[:, 3], data=data, ax=ax1);\n",
    "sns.countplot(x=data.iloc[:, 2], hue=data.iloc[:, 4], data=data, ax=ax2);\n",
    "sns.countplot(x=data.iloc[:, 2], hue=data.iloc[:, 5], data=data, ax=ax3);"
   ]
  },
  {
   "cell_type": "code",
   "execution_count": 25,
   "metadata": {},
   "outputs": [
    {
     "data": {
      "text/html": [
       "<div>\n",
       "<style scoped>\n",
       "    .dataframe tbody tr th:only-of-type {\n",
       "        vertical-align: middle;\n",
       "    }\n",
       "\n",
       "    .dataframe tbody tr th {\n",
       "        vertical-align: top;\n",
       "    }\n",
       "\n",
       "    .dataframe thead th {\n",
       "        text-align: right;\n",
       "    }\n",
       "</style>\n",
       "<table border=\"1\" class=\"dataframe\">\n",
       "  <thead>\n",
       "    <tr style=\"text-align: right;\">\n",
       "      <th>Residence</th>\n",
       "      <th>Bangkok</th>\n",
       "      <th>Other cities</th>\n",
       "    </tr>\n",
       "    <tr>\n",
       "      <th>Have you ever consumed any Korean Dramas?</th>\n",
       "      <th></th>\n",
       "      <th></th>\n",
       "    </tr>\n",
       "  </thead>\n",
       "  <tbody>\n",
       "    <tr>\n",
       "      <th>No</th>\n",
       "      <td>32</td>\n",
       "      <td>7</td>\n",
       "    </tr>\n",
       "    <tr>\n",
       "      <th>Yes</th>\n",
       "      <td>179</td>\n",
       "      <td>59</td>\n",
       "    </tr>\n",
       "  </tbody>\n",
       "</table>\n",
       "</div>"
      ],
      "text/plain": [
       "Residence                                  Bangkok  Other cities\n",
       "Have you ever consumed any Korean Dramas?                       \n",
       "No                                              32             7\n",
       "Yes                                            179            59"
      ]
     },
     "execution_count": 25,
     "metadata": {},
     "output_type": "execute_result"
    }
   ],
   "source": [
    "data.groupby(['Have you ever consumed any Korean Dramas?', 'Residence']).size().unstack()"
   ]
  },
  {
   "cell_type": "code",
   "execution_count": 26,
   "metadata": {},
   "outputs": [
    {
     "data": {
      "text/html": [
       "<div>\n",
       "<style scoped>\n",
       "    .dataframe tbody tr th:only-of-type {\n",
       "        vertical-align: middle;\n",
       "    }\n",
       "\n",
       "    .dataframe tbody tr th {\n",
       "        vertical-align: top;\n",
       "    }\n",
       "\n",
       "    .dataframe thead th {\n",
       "        text-align: right;\n",
       "    }\n",
       "</style>\n",
       "<table border=\"1\" class=\"dataframe\">\n",
       "  <thead>\n",
       "    <tr style=\"text-align: right;\">\n",
       "      <th>Residence</th>\n",
       "      <th>Bangkok</th>\n",
       "      <th>Other cities</th>\n",
       "    </tr>\n",
       "    <tr>\n",
       "      <th>Have you ever consumed any Korean Songs?</th>\n",
       "      <th></th>\n",
       "      <th></th>\n",
       "    </tr>\n",
       "  </thead>\n",
       "  <tbody>\n",
       "    <tr>\n",
       "      <th>No</th>\n",
       "      <td>44</td>\n",
       "      <td>18</td>\n",
       "    </tr>\n",
       "    <tr>\n",
       "      <th>Yes</th>\n",
       "      <td>167</td>\n",
       "      <td>48</td>\n",
       "    </tr>\n",
       "  </tbody>\n",
       "</table>\n",
       "</div>"
      ],
      "text/plain": [
       "Residence                                 Bangkok  Other cities\n",
       "Have you ever consumed any Korean Songs?                       \n",
       "No                                             44            18\n",
       "Yes                                           167            48"
      ]
     },
     "execution_count": 26,
     "metadata": {},
     "output_type": "execute_result"
    }
   ],
   "source": [
    "data.groupby(['Have you ever consumed any Korean Songs?', 'Residence']).size().unstack()"
   ]
  },
  {
   "cell_type": "code",
   "execution_count": 27,
   "metadata": {},
   "outputs": [
    {
     "data": {
      "text/html": [
       "<div>\n",
       "<style scoped>\n",
       "    .dataframe tbody tr th:only-of-type {\n",
       "        vertical-align: middle;\n",
       "    }\n",
       "\n",
       "    .dataframe tbody tr th {\n",
       "        vertical-align: top;\n",
       "    }\n",
       "\n",
       "    .dataframe thead th {\n",
       "        text-align: right;\n",
       "    }\n",
       "</style>\n",
       "<table border=\"1\" class=\"dataframe\">\n",
       "  <thead>\n",
       "    <tr style=\"text-align: right;\">\n",
       "      <th>Residence</th>\n",
       "      <th>Bangkok</th>\n",
       "      <th>Other cities</th>\n",
       "    </tr>\n",
       "    <tr>\n",
       "      <th>Have you ever consumed any Korean Films?</th>\n",
       "      <th></th>\n",
       "      <th></th>\n",
       "    </tr>\n",
       "  </thead>\n",
       "  <tbody>\n",
       "    <tr>\n",
       "      <th>No</th>\n",
       "      <td>59</td>\n",
       "      <td>17</td>\n",
       "    </tr>\n",
       "    <tr>\n",
       "      <th>Yes</th>\n",
       "      <td>152</td>\n",
       "      <td>49</td>\n",
       "    </tr>\n",
       "  </tbody>\n",
       "</table>\n",
       "</div>"
      ],
      "text/plain": [
       "Residence                                 Bangkok  Other cities\n",
       "Have you ever consumed any Korean Films?                       \n",
       "No                                             59            17\n",
       "Yes                                           152            49"
      ]
     },
     "execution_count": 27,
     "metadata": {},
     "output_type": "execute_result"
    }
   ],
   "source": [
    "data.groupby(['Have you ever consumed any Korean Films?', 'Residence']).size().unstack()"
   ]
  },
  {
   "cell_type": "code",
   "execution_count": 28,
   "metadata": {},
   "outputs": [
    {
     "name": "stdout",
     "output_type": "stream",
     "text": [
      "____ Korean Dramas ____\n",
      "BKK = 0.8483412322274881\n",
      "Other = 0.8939393939393939\n",
      "____ Korean Songs ____\n",
      "BKK = 0.7914691943127962\n",
      "Other = 0.7272727272727273\n",
      "____ Korean Films ____\n",
      "BKK = 0.7203791469194313\n",
      "Other = 0.7424242424242424\n"
     ]
    }
   ],
   "source": [
    "print('____ Korean Dramas ____')\n",
    "print('BKK =', 179/211)\n",
    "print('Other =', 59/66)\n",
    "print('____ Korean Songs ____')\n",
    "print('BKK =', 167/211)\n",
    "print('Other =', 48/66)\n",
    "print('____ Korean Films ____')\n",
    "print('BKK =', 152/211)\n",
    "print('Other =', 49/66)"
   ]
  },
  {
   "cell_type": "markdown",
   "metadata": {},
   "source": [
    "##### Korean media products bases on Age factor "
   ]
  },
  {
   "cell_type": "code",
   "execution_count": 29,
   "metadata": {},
   "outputs": [
    {
     "data": {
      "image/png": "[encoded data removed]",
      "text/plain": [
       "<Figure size 1152x432 with 3 Axes>"
      ]
     },
     "metadata": {},
     "output_type": "display_data"
    }
   ],
   "source": [
    "f, (ax1, ax2, ax3) = plt.subplots(1, 3, figsize=(16, 6), sharey=True);\n",
    "sns.countplot(x=(pd.cut(pd.to_numeric(data.Age), bins=np.arange(10, 71, 10))), hue=data.iloc[:, 3], data=data, ax=ax1);\n",
    "sns.countplot(x=(pd.cut(pd.to_numeric(data.Age), bins=np.arange(10, 71, 10))), hue=data.iloc[:, 4], data=data, ax=ax2);\n",
    "sns.countplot(x=(pd.cut(pd.to_numeric(data.Age), bins=np.arange(10, 71, 10))), hue=data.iloc[:, 5], data=data, ax=ax3);"
   ]
  },
  {
   "cell_type": "code",
   "execution_count": 30,
   "metadata": {},
   "outputs": [
    {
     "data": {
      "text/html": [
       "<div>\n",
       "<style scoped>\n",
       "    .dataframe tbody tr th:only-of-type {\n",
       "        vertical-align: middle;\n",
       "    }\n",
       "\n",
       "    .dataframe tbody tr th {\n",
       "        vertical-align: top;\n",
       "    }\n",
       "\n",
       "    .dataframe thead th {\n",
       "        text-align: right;\n",
       "    }\n",
       "</style>\n",
       "<table border=\"1\" class=\"dataframe\">\n",
       "  <thead>\n",
       "    <tr style=\"text-align: right;\">\n",
       "      <th>Age</th>\n",
       "      <th>(10, 20]</th>\n",
       "      <th>(20, 30]</th>\n",
       "      <th>(30, 40]</th>\n",
       "      <th>(40, 50]</th>\n",
       "      <th>(50, 60]</th>\n",
       "      <th>(60, 70]</th>\n",
       "    </tr>\n",
       "    <tr>\n",
       "      <th>Have you ever consumed any Korean Dramas?</th>\n",
       "      <th></th>\n",
       "      <th></th>\n",
       "      <th></th>\n",
       "      <th></th>\n",
       "      <th></th>\n",
       "      <th></th>\n",
       "    </tr>\n",
       "  </thead>\n",
       "  <tbody>\n",
       "    <tr>\n",
       "      <th>No</th>\n",
       "      <td>9</td>\n",
       "      <td>13</td>\n",
       "      <td>6</td>\n",
       "      <td>5</td>\n",
       "      <td>4</td>\n",
       "      <td>2</td>\n",
       "    </tr>\n",
       "    <tr>\n",
       "      <th>Yes</th>\n",
       "      <td>48</td>\n",
       "      <td>123</td>\n",
       "      <td>31</td>\n",
       "      <td>17</td>\n",
       "      <td>17</td>\n",
       "      <td>2</td>\n",
       "    </tr>\n",
       "  </tbody>\n",
       "</table>\n",
       "</div>"
      ],
      "text/plain": [
       "Age                                        (10, 20]  (20, 30]  (30, 40]  \\\n",
       "Have you ever consumed any Korean Dramas?                                 \n",
       "No                                                9        13         6   \n",
       "Yes                                              48       123        31   \n",
       "\n",
       "Age                                        (40, 50]  (50, 60]  (60, 70]  \n",
       "Have you ever consumed any Korean Dramas?                                \n",
       "No                                                5         4         2  \n",
       "Yes                                              17        17         2  "
      ]
     },
     "execution_count": 30,
     "metadata": {},
     "output_type": "execute_result"
    }
   ],
   "source": [
    "groups = data.groupby(['Have you ever consumed any Korean Dramas?', pd.cut(pd.to_numeric(data.Age), bins=np.arange(10, 71, 10))])\n",
    "groups.size().unstack()"
   ]
  },
  {
   "cell_type": "code",
   "execution_count": 31,
   "metadata": {},
   "outputs": [
    {
     "data": {
      "text/html": [
       "<div>\n",
       "<style scoped>\n",
       "    .dataframe tbody tr th:only-of-type {\n",
       "        vertical-align: middle;\n",
       "    }\n",
       "\n",
       "    .dataframe tbody tr th {\n",
       "        vertical-align: top;\n",
       "    }\n",
       "\n",
       "    .dataframe thead th {\n",
       "        text-align: right;\n",
       "    }\n",
       "</style>\n",
       "<table border=\"1\" class=\"dataframe\">\n",
       "  <thead>\n",
       "    <tr style=\"text-align: right;\">\n",
       "      <th>Age</th>\n",
       "      <th>(10, 20]</th>\n",
       "      <th>(20, 30]</th>\n",
       "      <th>(30, 40]</th>\n",
       "      <th>(40, 50]</th>\n",
       "      <th>(50, 60]</th>\n",
       "      <th>(60, 70]</th>\n",
       "    </tr>\n",
       "    <tr>\n",
       "      <th>Have you ever consumed any Korean Songs?</th>\n",
       "      <th></th>\n",
       "      <th></th>\n",
       "      <th></th>\n",
       "      <th></th>\n",
       "      <th></th>\n",
       "      <th></th>\n",
       "    </tr>\n",
       "  </thead>\n",
       "  <tbody>\n",
       "    <tr>\n",
       "      <th>No</th>\n",
       "      <td>9</td>\n",
       "      <td>22</td>\n",
       "      <td>10</td>\n",
       "      <td>6</td>\n",
       "      <td>12</td>\n",
       "      <td>3</td>\n",
       "    </tr>\n",
       "    <tr>\n",
       "      <th>Yes</th>\n",
       "      <td>48</td>\n",
       "      <td>114</td>\n",
       "      <td>27</td>\n",
       "      <td>16</td>\n",
       "      <td>9</td>\n",
       "      <td>1</td>\n",
       "    </tr>\n",
       "  </tbody>\n",
       "</table>\n",
       "</div>"
      ],
      "text/plain": [
       "Age                                       (10, 20]  (20, 30]  (30, 40]  \\\n",
       "Have you ever consumed any Korean Songs?                                 \n",
       "No                                               9        22        10   \n",
       "Yes                                             48       114        27   \n",
       "\n",
       "Age                                       (40, 50]  (50, 60]  (60, 70]  \n",
       "Have you ever consumed any Korean Songs?                                \n",
       "No                                               6        12         3  \n",
       "Yes                                             16         9         1  "
      ]
     },
     "execution_count": 31,
     "metadata": {},
     "output_type": "execute_result"
    }
   ],
   "source": [
    "groups = data.groupby(['Have you ever consumed any Korean Songs?', pd.cut(pd.to_numeric(data.Age), bins=np.arange(10, 71, 10))])\n",
    "groups.size().unstack()"
   ]
  },
  {
   "cell_type": "code",
   "execution_count": 32,
   "metadata": {},
   "outputs": [
    {
     "data": {
      "text/html": [
       "<div>\n",
       "<style scoped>\n",
       "    .dataframe tbody tr th:only-of-type {\n",
       "        vertical-align: middle;\n",
       "    }\n",
       "\n",
       "    .dataframe tbody tr th {\n",
       "        vertical-align: top;\n",
       "    }\n",
       "\n",
       "    .dataframe thead th {\n",
       "        text-align: right;\n",
       "    }\n",
       "</style>\n",
       "<table border=\"1\" class=\"dataframe\">\n",
       "  <thead>\n",
       "    <tr style=\"text-align: right;\">\n",
       "      <th>Age</th>\n",
       "      <th>(10, 20]</th>\n",
       "      <th>(20, 30]</th>\n",
       "      <th>(30, 40]</th>\n",
       "      <th>(40, 50]</th>\n",
       "      <th>(50, 60]</th>\n",
       "      <th>(60, 70]</th>\n",
       "    </tr>\n",
       "    <tr>\n",
       "      <th>Have you ever consumed any Korean Films?</th>\n",
       "      <th></th>\n",
       "      <th></th>\n",
       "      <th></th>\n",
       "      <th></th>\n",
       "      <th></th>\n",
       "      <th></th>\n",
       "    </tr>\n",
       "  </thead>\n",
       "  <tbody>\n",
       "    <tr>\n",
       "      <th>No</th>\n",
       "      <td>18</td>\n",
       "      <td>32</td>\n",
       "      <td>10</td>\n",
       "      <td>6</td>\n",
       "      <td>9</td>\n",
       "      <td>1</td>\n",
       "    </tr>\n",
       "    <tr>\n",
       "      <th>Yes</th>\n",
       "      <td>39</td>\n",
       "      <td>104</td>\n",
       "      <td>27</td>\n",
       "      <td>16</td>\n",
       "      <td>12</td>\n",
       "      <td>3</td>\n",
       "    </tr>\n",
       "  </tbody>\n",
       "</table>\n",
       "</div>"
      ],
      "text/plain": [
       "Age                                       (10, 20]  (20, 30]  (30, 40]  \\\n",
       "Have you ever consumed any Korean Films?                                 \n",
       "No                                              18        32        10   \n",
       "Yes                                             39       104        27   \n",
       "\n",
       "Age                                       (40, 50]  (50, 60]  (60, 70]  \n",
       "Have you ever consumed any Korean Films?                                \n",
       "No                                               6         9         1  \n",
       "Yes                                             16        12         3  "
      ]
     },
     "execution_count": 32,
     "metadata": {},
     "output_type": "execute_result"
    }
   ],
   "source": [
    "groups = data.groupby(['Have you ever consumed any Korean Films?', pd.cut(pd.to_numeric(data.Age), bins=np.arange(10, 71, 10))])\n",
    "groups.size().unstack()"
   ]
  },
  {
   "cell_type": "code",
   "execution_count": 33,
   "metadata": {},
   "outputs": [
    {
     "name": "stdout",
     "output_type": "stream",
     "text": [
      "____ Korean Dramas ____\n",
      "Age 11-20 = 0.8421052631578947\n",
      "Age 21-30 = 0.9044117647058824\n",
      "Age 31-40 = 0.8378378378378378\n",
      "Age 41-50 = 0.7727272727272727\n",
      "Age 51-60 = 0.8095238095238095\n",
      "Age 61-70 = 0.5\n",
      "____ Korean Songs ____\n",
      "Age 11-20 = 0.8421052631578947\n",
      "Age 21-30 = 0.8382352941176471\n",
      "Age 31-40 = 0.7297297297297297\n",
      "Age 41-50 = 0.7272727272727273\n",
      "Age 51-60 = 0.42857142857142855\n",
      "Age 61-70 = 0.25\n",
      "____ Korean Films ____\n",
      "Age 11-20 = 0.6842105263157895\n",
      "Age 21-30 = 0.7647058823529411\n",
      "Age 31-40 = 0.7297297297297297\n",
      "Age 41-50 = 0.7272727272727273\n",
      "Age 51-60 = 0.5714285714285714\n",
      "Age 61-70 = 0.75\n"
     ]
    }
   ],
   "source": [
    "print('____ Korean Dramas ____')\n",
    "print('Age 11-20 =', 48/57)\n",
    "print('Age 21-30 =', 123/136)\n",
    "print('Age 31-40 =', 31/37)\n",
    "print('Age 41-50 =', 17/22)\n",
    "print('Age 51-60 =', 17/21)\n",
    "print('Age 61-70 =', 2/4)\n",
    "print('____ Korean Songs ____')\n",
    "print('Age 11-20 =', 48/57)\n",
    "print('Age 21-30 =', 114/136)\n",
    "print('Age 31-40 =', 27/37)\n",
    "print('Age 41-50 =', 16/22)\n",
    "print('Age 51-60 =', 9/21)\n",
    "print('Age 61-70 =', 1/4)\n",
    "print('____ Korean Films ____')\n",
    "print('Age 11-20 =', 39/57)\n",
    "print('Age 21-30 =', 104/136)\n",
    "print('Age 31-40 =', 27/37)\n",
    "print('Age 41-50 =', 16/22)\n",
    "print('Age 51-60 =', 12/21)\n",
    "print('Age 61-70 =', 3/4)"
   ]
  },
  {
   "cell_type": "markdown",
   "metadata": {},
   "source": [
    "> ### Summary\n",
    "##### As you see in the first graph, most of Thai people has ever consumed Korean media products.\n",
    "- **Female (91%)** is the most effective with **Korean Dramas**\n",
    "- **11-20 years old (84.2%)** is the most effective with **Korean Songs**\n",
    "- **21-30 years old (76.5%)** is the most effective with **Korean Films**"
   ]
  },
  {
   "cell_type": "markdown",
   "metadata": {},
   "source": [
    "------------"
   ]
  },
  {
   "cell_type": "markdown",
   "metadata": {},
   "source": [
    "> ### 2. Reasons why Thai people like Korean media products"
   ]
  },
  {
   "cell_type": "markdown",
   "metadata": {},
   "source": [
    "> เปลี่ยนข้อมูล Qualitative data ให้เป็น Quantitative data"
   ]
  },
  {
   "cell_type": "code",
   "execution_count": 34,
   "metadata": {},
   "outputs": [],
   "source": [
    "for i in range (8, 14) :\n",
    "    data.iloc[:, i][data.iloc[:, i] == 'Strongly agree'] = 5\n",
    "    data.iloc[:, i][data.iloc[:, i] == 'Agree'] = 4\n",
    "    data.iloc[:, i][data.iloc[:, i] == 'Neither disagree nor agree'] = 3\n",
    "    data.iloc[:, i][data.iloc[:, i] == 'Disagree'] = 2\n",
    "    data.iloc[:, i][data.iloc[:, i] == 'Strongly disagree'] = 1"
   ]
  },
  {
   "cell_type": "code",
   "execution_count": 35,
   "metadata": {
    "scrolled": true
   },
   "outputs": [
    {
     "data": {
      "text/html": [
       "<div>\n",
       "<style scoped>\n",
       "    .dataframe tbody tr th:only-of-type {\n",
       "        vertical-align: middle;\n",
       "    }\n",
       "\n",
       "    .dataframe tbody tr th {\n",
       "        vertical-align: top;\n",
       "    }\n",
       "\n",
       "    .dataframe thead th {\n",
       "        text-align: right;\n",
       "    }\n",
       "</style>\n",
       "<table border=\"1\" class=\"dataframe\">\n",
       "  <thead>\n",
       "    <tr style=\"text-align: right;\">\n",
       "      <th></th>\n",
       "      <th>Age</th>\n",
       "      <th>Gender</th>\n",
       "      <th>Residence</th>\n",
       "      <th>Have you ever consumed any Korean Dramas?</th>\n",
       "      <th>Have you ever consumed any Korean Songs?</th>\n",
       "      <th>Have you ever consumed any Korean Films?</th>\n",
       "      <th>Do you enjoy Korean media products?</th>\n",
       "      <th>How often do you consume Korean media products in a typical week?</th>\n",
       "      <th>Enjoy Korean media products because I like the products</th>\n",
       "      <th>Enjoy Korean media products because the products are popular among the peers</th>\n",
       "      <th>Enjoy Korean media products because my friends recommended</th>\n",
       "      <th>Enjoy Korean media products for time-killing purpose</th>\n",
       "      <th>Enjoy Korean media products because I like to learn Korean language</th>\n",
       "      <th>Enjoy Korean media products because I want to know about Korean society and culture</th>\n",
       "      <th>How much are you satisfied with the quality of Korean media products?</th>\n",
       "      <th>Imagine that you meet a South Korean. In your mind, how is the South Korean?</th>\n",
       "      <th>Have you ever visited South Korea before?</th>\n",
       "      <th>If YES, do you want to re-visit South Korea again?</th>\n",
       "      <th>If NO, have you ever planned to visit South Korea in the future?</th>\n",
       "    </tr>\n",
       "  </thead>\n",
       "  <tbody>\n",
       "    <tr>\n",
       "      <th>0</th>\n",
       "      <td>21</td>\n",
       "      <td>Female</td>\n",
       "      <td>Bangkok</td>\n",
       "      <td>Yes</td>\n",
       "      <td>Yes</td>\n",
       "      <td>Yes</td>\n",
       "      <td>Yes</td>\n",
       "      <td>Everyday ทุกวัน</td>\n",
       "      <td>4</td>\n",
       "      <td>4</td>\n",
       "      <td>4</td>\n",
       "      <td>4</td>\n",
       "      <td>4</td>\n",
       "      <td>3</td>\n",
       "      <td>Satisfied</td>\n",
       "      <td>Just a person</td>\n",
       "      <td>Yes</td>\n",
       "      <td>Yes อยาก</td>\n",
       "      <td>NaN</td>\n",
       "    </tr>\n",
       "    <tr>\n",
       "      <th>1</th>\n",
       "      <td>54</td>\n",
       "      <td>Female</td>\n",
       "      <td>Bangkok</td>\n",
       "      <td>Yes</td>\n",
       "      <td>Yes</td>\n",
       "      <td>Yes</td>\n",
       "      <td>Yes</td>\n",
       "      <td>One day per week  1 วันต่อสัปดาห์</td>\n",
       "      <td>4</td>\n",
       "      <td>4</td>\n",
       "      <td>4</td>\n",
       "      <td>2</td>\n",
       "      <td>2</td>\n",
       "      <td>3</td>\n",
       "      <td>Satisfied</td>\n",
       "      <td>Just a person</td>\n",
       "      <td>Yes</td>\n",
       "      <td>Yes อยาก</td>\n",
       "      <td>Yes อยาก</td>\n",
       "    </tr>\n",
       "    <tr>\n",
       "      <th>2</th>\n",
       "      <td>22</td>\n",
       "      <td>Female</td>\n",
       "      <td>Bangkok</td>\n",
       "      <td>Yes</td>\n",
       "      <td>Yes</td>\n",
       "      <td>Yes</td>\n",
       "      <td>Yes</td>\n",
       "      <td>Everyday ทุกวัน</td>\n",
       "      <td>3</td>\n",
       "      <td>3</td>\n",
       "      <td>3</td>\n",
       "      <td>3</td>\n",
       "      <td>3</td>\n",
       "      <td>3</td>\n",
       "      <td>Neither satisfied nor dissatisfied</td>\n",
       "      <td>Just a person</td>\n",
       "      <td>Yes</td>\n",
       "      <td>Yes อยาก</td>\n",
       "      <td>Yes อยาก</td>\n",
       "    </tr>\n",
       "    <tr>\n",
       "      <th>3</th>\n",
       "      <td>19</td>\n",
       "      <td>Female</td>\n",
       "      <td>Other cities</td>\n",
       "      <td>Yes</td>\n",
       "      <td>Yes</td>\n",
       "      <td>Yes</td>\n",
       "      <td>Yes</td>\n",
       "      <td>Three days per week  3 วันต่อสัปดาห์</td>\n",
       "      <td>4</td>\n",
       "      <td>3</td>\n",
       "      <td>3</td>\n",
       "      <td>4</td>\n",
       "      <td>4</td>\n",
       "      <td>4</td>\n",
       "      <td>Satisfied</td>\n",
       "      <td>Good person</td>\n",
       "      <td>Yes</td>\n",
       "      <td>Yes อยาก</td>\n",
       "      <td>Yes อยาก</td>\n",
       "    </tr>\n",
       "  </tbody>\n",
       "</table>\n",
       "</div>"
      ],
      "text/plain": [
       "  Age  Gender     Residence Have you ever consumed any Korean Dramas?  \\\n",
       "0  21  Female       Bangkok                                       Yes   \n",
       "1  54  Female       Bangkok                                       Yes   \n",
       "2  22  Female       Bangkok                                       Yes   \n",
       "3  19  Female  Other cities                                       Yes   \n",
       "\n",
       "  Have you ever consumed any Korean Songs?  \\\n",
       "0                                      Yes   \n",
       "1                                      Yes   \n",
       "2                                      Yes   \n",
       "3                                      Yes   \n",
       "\n",
       "  Have you ever consumed any Korean Films?  \\\n",
       "0                                      Yes   \n",
       "1                                      Yes   \n",
       "2                                      Yes   \n",
       "3                                      Yes   \n",
       "\n",
       "  Do you enjoy Korean media products?  \\\n",
       "0                                 Yes   \n",
       "1                                 Yes   \n",
       "2                                 Yes   \n",
       "3                                 Yes   \n",
       "\n",
       "  How often do you consume Korean media products in a typical week?  \\\n",
       "0                                    Everyday ทุกวัน                  \n",
       "1                  One day per week  1 วันต่อสัปดาห์                  \n",
       "2                                    Everyday ทุกวัน                  \n",
       "3               Three days per week  3 วันต่อสัปดาห์                  \n",
       "\n",
       "  Enjoy Korean media products because I like the products  \\\n",
       "0                                                  4        \n",
       "1                                                  4        \n",
       "2                                                  3        \n",
       "3                                                  4        \n",
       "\n",
       "  Enjoy Korean media products because the products are popular among the peers  \\\n",
       "0                                                  4                             \n",
       "1                                                  4                             \n",
       "2                                                  3                             \n",
       "3                                                  3                             \n",
       "\n",
       "  Enjoy Korean media products because my friends recommended  \\\n",
       "0                                                  4           \n",
       "1                                                  4           \n",
       "2                                                  3           \n",
       "3                                                  3           \n",
       "\n",
       "  Enjoy Korean media products for time-killing purpose  \\\n",
       "0                                                  4     \n",
       "1                                                  2     \n",
       "2                                                  3     \n",
       "3                                                  4     \n",
       "\n",
       "  Enjoy Korean media products because I like to learn Korean language  \\\n",
       "0                                                  4                    \n",
       "1                                                  2                    \n",
       "2                                                  3                    \n",
       "3                                                  4                    \n",
       "\n",
       "  Enjoy Korean media products because I want to know about Korean society and culture  \\\n",
       "0                                                  3                                    \n",
       "1                                                  3                                    \n",
       "2                                                  3                                    \n",
       "3                                                  4                                    \n",
       "\n",
       "  How much are you satisfied with the quality of Korean media products?  \\\n",
       "0                                          Satisfied                      \n",
       "1                                          Satisfied                      \n",
       "2                 Neither satisfied nor dissatisfied                      \n",
       "3                                          Satisfied                      \n",
       "\n",
       "  Imagine that you meet a South Korean. In your mind, how is the South Korean?  \\\n",
       "0                                      Just a person                             \n",
       "1                                      Just a person                             \n",
       "2                                      Just a person                             \n",
       "3                                        Good person                             \n",
       "\n",
       "  Have you ever visited South Korea before?  \\\n",
       "0                                       Yes   \n",
       "1                                       Yes   \n",
       "2                                       Yes   \n",
       "3                                       Yes   \n",
       "\n",
       "  If YES, do you want to re-visit South Korea again?  \\\n",
       "0                                           Yes อยาก   \n",
       "1                                           Yes อยาก   \n",
       "2                                           Yes อยาก   \n",
       "3                                           Yes อยาก   \n",
       "\n",
       "  If NO, have you ever planned to visit South Korea in the future?  \n",
       "0                                                NaN                \n",
       "1                                           Yes อยาก                \n",
       "2                                           Yes อยาก                \n",
       "3                                           Yes อยาก                "
      ]
     },
     "execution_count": 35,
     "metadata": {},
     "output_type": "execute_result"
    }
   ],
   "source": [
    "data.head(4)"
   ]
  },
  {
   "cell_type": "markdown",
   "metadata": {},
   "source": [
    "> ##### Countplot of the reasons why Thai people like Korean media products that consist of\n",
    "1. Enjoy Korean media products because I like the products\n",
    "2. Enjoy Korean media products because the products are popular among the peers\n",
    "3. Enjoy Korean media products because my friends recommended\n",
    "4. Enjoy Korean media products for time-killing purpose\n",
    "5. Enjoy Korean media products because I like to learn Korean language\n",
    "6. Enjoy Korean media products because I want to know about Korean society and culture"
   ]
  },
  {
   "cell_type": "code",
   "execution_count": 36,
   "metadata": {},
   "outputs": [
    {
     "data": {
      "image/png": "[encoded data removed]",
      "text/plain": [
       "<Figure size 1152x576 with 1 Axes>"
      ]
     },
     "metadata": {},
     "output_type": "display_data"
    }
   ],
   "source": [
    "f, ax = plt.subplots(figsize=(16, 8));\n",
    "sns.countplot(x=data.iloc[:, 8], data=data);"
   ]
  },
  {
   "cell_type": "code",
   "execution_count": 37,
   "metadata": {},
   "outputs": [
    {
     "data": {
      "image/png": "[encoded data removed]",
      "text/plain": [
       "<Figure size 1152x576 with 1 Axes>"
      ]
     },
     "metadata": {},
     "output_type": "display_data"
    }
   ],
   "source": [
    "f, ax = plt.subplots(figsize=(16, 8));\n",
    "sns.countplot(x=data.iloc[:, 9], data=data);"
   ]
  },
  {
   "cell_type": "code",
   "execution_count": 38,
   "metadata": {},
   "outputs": [
    {
     "data": {
      "image/png": "[encoded data removed]",
      "text/plain": [
       "<Figure size 1152x576 with 1 Axes>"
      ]
     },
     "metadata": {},
     "output_type": "display_data"
    }
   ],
   "source": [
    "f, ax = plt.subplots(figsize=(16, 8));\n",
    "sns.countplot(x=data.iloc[:, 10], data=data);"
   ]
  },
  {
   "cell_type": "code",
   "execution_count": 39,
   "metadata": {},
   "outputs": [
    {
     "data": {
      "image/png": "[encoded data removed]",
      "text/plain": [
       "<Figure size 1152x576 with 1 Axes>"
      ]
     },
     "metadata": {},
     "output_type": "display_data"
    }
   ],
   "source": [
    "f, ax = plt.subplots(figsize=(16, 8));\n",
    "sns.countplot(x=data.iloc[:, 11], data=data);"
   ]
  },
  {
   "cell_type": "code",
   "execution_count": 40,
   "metadata": {},
   "outputs": [
    {
     "data": {
      "image/png": "[encoded data removed]",
      "text/plain": [
       "<Figure size 1152x576 with 1 Axes>"
      ]
     },
     "metadata": {},
     "output_type": "display_data"
    }
   ],
   "source": [
    "f, ax = plt.subplots(figsize=(16, 8));\n",
    "sns.countplot(x=data.iloc[:, 12], data=data);"
   ]
  },
  {
   "cell_type": "code",
   "execution_count": 41,
   "metadata": {},
   "outputs": [
    {
     "data": {
      "image/png": "[encoded data removed]",
      "text/plain": [
       "<Figure size 1152x576 with 1 Axes>"
      ]
     },
     "metadata": {},
     "output_type": "display_data"
    }
   ],
   "source": [
    "f, ax = plt.subplots(figsize=(16, 8));\n",
    "sns.countplot(x=data.iloc[:, 13], data=data);"
   ]
  },
  {
   "cell_type": "code",
   "execution_count": 42,
   "metadata": {},
   "outputs": [
    {
     "name": "stdout",
     "output_type": "stream",
     "text": [
      "Enjoy Korean media products because I like the products = 3.44043321299639\n",
      "Enjoy Korean media products because the products are popular among the peers = 3.1624548736462095\n",
      "Enjoy Korean media products because my friends recommended = 3.1768953068592056\n",
      "Enjoy Korean media products for time-killing purpose = 3.03971119133574\n",
      "Enjoy Korean media products because I like to learn Korean language = 2.5667870036101084\n",
      "Enjoy Korean media products because I want to know about Korean society and culture = 2.808664259927798\n"
     ]
    }
   ],
   "source": [
    "print('Enjoy Korean media products because I like the products =', data.iloc[:, 8].mean())\n",
    "print('Enjoy Korean media products because the products are popular among the peers =', data.iloc[:, 9].mean())\n",
    "print('Enjoy Korean media products because my friends recommended =', data.iloc[:, 10].mean())\n",
    "print('Enjoy Korean media products for time-killing purpose =', data.iloc[:, 11].mean())\n",
    "print('Enjoy Korean media products because I like to learn Korean language =', data.iloc[:, 12].mean())\n",
    "print('Enjoy Korean media products because I want to know about Korean society and culture =', data.iloc[:, 13].mean())"
   ]
  },
  {
   "cell_type": "markdown",
   "metadata": {},
   "source": [
    "> ### Summary\n",
    "##### At the summary above can rank the answer that why Thai people like Korean media products\n",
    "1. **Enjoy Korean media products because I like the products** = 3.44 / 5\n",
    "2. **Enjoy Korean media products because my friends recommended** = 3.18 / 5\n",
    "3. **Enjoy Korean media products because the products are popular among the peers** = 3.16 / 5\n",
    "4. **Enjoy Korean media products for time-killing purpose** = 3.04 / 5\n",
    "5. **Enjoy Korean media products because I want to know about Korean society and culture** = 2.81 / 5\n",
    "6. **Enjoy Korean media products because I like to learn Korean language** = 2.57 / 5"
   ]
  },
  {
   "cell_type": "markdown",
   "metadata": {},
   "source": [
    "> ### 3. ความถี่ในการบริโภคสื่อเกาหลี สำหรับกลุ่มตัวอย่างคนไทยที่มีทัศนคติ’ชื่นชอบสื่อเกาหลี’เท่านั้น"
   ]
  },
  {
   "cell_type": "code",
   "execution_count": 52,
   "metadata": {},
   "outputs": [
    {
     "data": {
      "text/html": [
       "<div>\n",
       "<style scoped>\n",
       "    .dataframe tbody tr th:only-of-type {\n",
       "        vertical-align: middle;\n",
       "    }\n",
       "\n",
       "    .dataframe tbody tr th {\n",
       "        vertical-align: top;\n",
       "    }\n",
       "\n",
       "    .dataframe thead th {\n",
       "        text-align: right;\n",
       "    }\n",
       "</style>\n",
       "<table border=\"1\" class=\"dataframe\">\n",
       "  <thead>\n",
       "    <tr style=\"text-align: right;\">\n",
       "      <th>How often do you consume Korean media products in a typical week?</th>\n",
       "      <th>Everyday ทุกวัน</th>\n",
       "      <th>Five days per week  5 วันต่อสัปดาห์</th>\n",
       "      <th>Four days per week  4 วันต่อสัปดาห์</th>\n",
       "      <th>One day per week  1 วันต่อสัปดาห์</th>\n",
       "      <th>Rarely enjoy นานๆที</th>\n",
       "      <th>Six days per week  6 วันต่อสัปดาห์</th>\n",
       "      <th>Three days per week  3 วันต่อสัปดาห์</th>\n",
       "      <th>Two days per week   2 วันต่อสัปดาห์</th>\n",
       "    </tr>\n",
       "    <tr>\n",
       "      <th>Do you enjoy Korean media products?</th>\n",
       "      <th></th>\n",
       "      <th></th>\n",
       "      <th></th>\n",
       "      <th></th>\n",
       "      <th></th>\n",
       "      <th></th>\n",
       "      <th></th>\n",
       "      <th></th>\n",
       "    </tr>\n",
       "  </thead>\n",
       "  <tbody>\n",
       "    <tr>\n",
       "      <th>No</th>\n",
       "      <td>NaN</td>\n",
       "      <td>1.0</td>\n",
       "      <td>NaN</td>\n",
       "      <td>NaN</td>\n",
       "      <td>38.0</td>\n",
       "      <td>NaN</td>\n",
       "      <td>NaN</td>\n",
       "      <td>NaN</td>\n",
       "    </tr>\n",
       "    <tr>\n",
       "      <th>Yes</th>\n",
       "      <td>70.0</td>\n",
       "      <td>11.0</td>\n",
       "      <td>8.0</td>\n",
       "      <td>12.0</td>\n",
       "      <td>88.0</td>\n",
       "      <td>1.0</td>\n",
       "      <td>21.0</td>\n",
       "      <td>17.0</td>\n",
       "    </tr>\n",
       "  </tbody>\n",
       "</table>\n",
       "</div>"
      ],
      "text/plain": [
       "How often do you consume Korean media products in a typical week?  Everyday ทุกวัน  \\\n",
       "Do you enjoy Korean media products?                                                  \n",
       "No                                                                             NaN   \n",
       "Yes                                                                           70.0   \n",
       "\n",
       "How often do you consume Korean media products in a typical week?  Five days per week  5 วันต่อสัปดาห์  \\\n",
       "Do you enjoy Korean media products?                                                                      \n",
       "No                                                                                                 1.0   \n",
       "Yes                                                                                               11.0   \n",
       "\n",
       "How often do you consume Korean media products in a typical week?  Four days per week  4 วันต่อสัปดาห์  \\\n",
       "Do you enjoy Korean media products?                                                                      \n",
       "No                                                                                                 NaN   \n",
       "Yes                                                                                                8.0   \n",
       "\n",
       "How often do you consume Korean media products in a typical week?  One day per week  1 วันต่อสัปดาห์  \\\n",
       "Do you enjoy Korean media products?                                                                    \n",
       "No                                                                                               NaN   \n",
       "Yes                                                                                             12.0   \n",
       "\n",
       "How often do you consume Korean media products in a typical week?  Rarely enjoy นานๆที  \\\n",
       "Do you enjoy Korean media products?                                                      \n",
       "No                                                                                38.0   \n",
       "Yes                                                                               88.0   \n",
       "\n",
       "How often do you consume Korean media products in a typical week?  Six days per week  6 วันต่อสัปดาห์  \\\n",
       "Do you enjoy Korean media products?                                                                     \n",
       "No                                                                                                NaN   \n",
       "Yes                                                                                               1.0   \n",
       "\n",
       "How often do you consume Korean media products in a typical week?  Three days per week  3 วันต่อสัปดาห์  \\\n",
       "Do you enjoy Korean media products?                                                                       \n",
       "No                                                                                                  NaN   \n",
       "Yes                                                                                                21.0   \n",
       "\n",
       "How often do you consume Korean media products in a typical week?  Two days per week   2 วันต่อสัปดาห์  \n",
       "Do you enjoy Korean media products?                                                                     \n",
       "No                                                                                                 NaN  \n",
       "Yes                                                                                               17.0  "
      ]
     },
     "execution_count": 52,
     "metadata": {},
     "output_type": "execute_result"
    }
   ],
   "source": [
    "data.groupby(['Do you enjoy Korean media products?', 'How often do you consume Korean media products in a typical week?'])\\\n",
    ".size().unstack()"
   ]
  },
  {
   "cell_type": "markdown",
   "metadata": {},
   "source": [
    "> ### Summary\n",
    "#### จากข้อมูลข้างบน โดยพิจารณาเพียง Row ที่ `Do you enjoy Korean media products? == Yes` (Row ล่างสุด)\n",
    "#### จะพบว่ามีแค่ Column `Everyday ทุกวัน` กับ `Rarely enjoy นานๆที` ที่มีจำนวนสูงมากเป็นพิเศษ นอกนั้นมีค่าต่ำหมด\n",
    "#### จึงสรุปคร่าวๆได้ว่า น่าจะเกิดจากพฤติกรรมการบริโภคสื่อเกาหลีที่ไม่สม่ำเสมอในแต่ละสัปดาห์ ทำให้คนเลือกตอบคำตอบที่เป็นขวาสุดไม่ก็ซ้ายสุดแทน"
   ]
  },
  {
   "cell_type": "markdown",
   "metadata": {},
   "source": [
    "> ### 4. ทัศนคติกลุ่มตัวอย่างคนไทยที่มีต่อคนเกาหลีใต้ แบ่งตาม อายุ เพศ และ ถิ่นที่พักอาศัย"
   ]
  },
  {
   "cell_type": "code",
   "execution_count": 44,
   "metadata": {},
   "outputs": [],
   "source": [
    "data.iloc[:, 15][data.iloc[:, 15] == 'Very good person'] = 5\n",
    "data.iloc[:, 15][data.iloc[:, 15] == 'Good person'] = 4\n",
    "data.iloc[:, 15][data.iloc[:, 15] == 'Just a person'] = 3\n",
    "data.iloc[:, 15][data.iloc[:, 15] == 'Bad person'] = 2\n",
    "data.iloc[:, 15][data.iloc[:, 15] == 'Very bad person'] = 1"
   ]
  },
  {
   "cell_type": "code",
   "execution_count": 45,
   "metadata": {},
   "outputs": [
    {
     "data": {
      "image/png": "[encoded data removed]",
      "text/plain": [
       "<Figure size 1152x576 with 1 Axes>"
      ]
     },
     "metadata": {},
     "output_type": "display_data"
    }
   ],
   "source": [
    "f, ax = plt.subplots(figsize=(16, 8));\n",
    "sns.countplot(x=pd.cut(pd.to_numeric(data.Age), bins=np.arange(10, 71, 10)), hue=data.iloc[:, 15], data=data);\n",
    "\n",
    "ax.legend(loc='upper right'); ax.set_title('Imagine that you meet a South Korean. In your mind, how is the South Korean?');\n",
    "L=plt.legend()\n",
    "L.get_texts()[0].set_text('Very bad person')\n",
    "L.get_texts()[1].set_text('Bad person')\n",
    "L.get_texts()[2].set_text('Just a person')\n",
    "L.get_texts()[3].set_text('Good person')\n",
    "L.get_texts()[4].set_text('Very good person')"
   ]
  },
  {
   "cell_type": "code",
   "execution_count": 46,
   "metadata": {},
   "outputs": [
    {
     "data": {
      "text/html": [
       "<div>\n",
       "<style scoped>\n",
       "    .dataframe tbody tr th:only-of-type {\n",
       "        vertical-align: middle;\n",
       "    }\n",
       "\n",
       "    .dataframe tbody tr th {\n",
       "        vertical-align: top;\n",
       "    }\n",
       "\n",
       "    .dataframe thead th {\n",
       "        text-align: right;\n",
       "    }\n",
       "</style>\n",
       "<table border=\"1\" class=\"dataframe\">\n",
       "  <thead>\n",
       "    <tr style=\"text-align: right;\">\n",
       "      <th>Age</th>\n",
       "      <th>(10, 20]</th>\n",
       "      <th>(20, 30]</th>\n",
       "      <th>(30, 40]</th>\n",
       "      <th>(40, 50]</th>\n",
       "      <th>(50, 60]</th>\n",
       "      <th>(60, 70]</th>\n",
       "    </tr>\n",
       "    <tr>\n",
       "      <th>Imagine that you meet a South Korean. In your mind, how is the South Korean?</th>\n",
       "      <th></th>\n",
       "      <th></th>\n",
       "      <th></th>\n",
       "      <th></th>\n",
       "      <th></th>\n",
       "      <th></th>\n",
       "    </tr>\n",
       "  </thead>\n",
       "  <tbody>\n",
       "    <tr>\n",
       "      <th>1</th>\n",
       "      <td>NaN</td>\n",
       "      <td>NaN</td>\n",
       "      <td>NaN</td>\n",
       "      <td>NaN</td>\n",
       "      <td>1.0</td>\n",
       "      <td>NaN</td>\n",
       "    </tr>\n",
       "    <tr>\n",
       "      <th>2</th>\n",
       "      <td>NaN</td>\n",
       "      <td>1.0</td>\n",
       "      <td>NaN</td>\n",
       "      <td>NaN</td>\n",
       "      <td>NaN</td>\n",
       "      <td>NaN</td>\n",
       "    </tr>\n",
       "    <tr>\n",
       "      <th>3</th>\n",
       "      <td>32.0</td>\n",
       "      <td>101.0</td>\n",
       "      <td>24.0</td>\n",
       "      <td>12.0</td>\n",
       "      <td>12.0</td>\n",
       "      <td>2.0</td>\n",
       "    </tr>\n",
       "    <tr>\n",
       "      <th>4</th>\n",
       "      <td>20.0</td>\n",
       "      <td>30.0</td>\n",
       "      <td>11.0</td>\n",
       "      <td>10.0</td>\n",
       "      <td>8.0</td>\n",
       "      <td>2.0</td>\n",
       "    </tr>\n",
       "    <tr>\n",
       "      <th>5</th>\n",
       "      <td>5.0</td>\n",
       "      <td>4.0</td>\n",
       "      <td>2.0</td>\n",
       "      <td>NaN</td>\n",
       "      <td>NaN</td>\n",
       "      <td>NaN</td>\n",
       "    </tr>\n",
       "  </tbody>\n",
       "</table>\n",
       "</div>"
      ],
      "text/plain": [
       "Age                                                 (10, 20]  (20, 30]  \\\n",
       "Imagine that you meet a South Korean. In your m...                       \n",
       "1                                                        NaN       NaN   \n",
       "2                                                        NaN       1.0   \n",
       "3                                                       32.0     101.0   \n",
       "4                                                       20.0      30.0   \n",
       "5                                                        5.0       4.0   \n",
       "\n",
       "Age                                                 (30, 40]  (40, 50]  \\\n",
       "Imagine that you meet a South Korean. In your m...                       \n",
       "1                                                        NaN       NaN   \n",
       "2                                                        NaN       NaN   \n",
       "3                                                       24.0      12.0   \n",
       "4                                                       11.0      10.0   \n",
       "5                                                        2.0       NaN   \n",
       "\n",
       "Age                                                 (50, 60]  (60, 70]  \n",
       "Imagine that you meet a South Korean. In your m...                      \n",
       "1                                                        1.0       NaN  \n",
       "2                                                        NaN       NaN  \n",
       "3                                                       12.0       2.0  \n",
       "4                                                        8.0       2.0  \n",
       "5                                                        NaN       NaN  "
      ]
     },
     "execution_count": 46,
     "metadata": {},
     "output_type": "execute_result"
    }
   ],
   "source": [
    "groups = data.groupby(['Imagine that you meet a South Korean. In your mind, how is the South Korean?', pd.cut(pd.to_numeric(data.Age), bins=np.arange(10, 71, 10))])\n",
    "groups.size().unstack()"
   ]
  },
  {
   "cell_type": "code",
   "execution_count": 47,
   "metadata": {},
   "outputs": [
    {
     "data": {
      "image/png": "[encoded data removed]",
      "text/plain": [
       "<Figure size 1152x576 with 1 Axes>"
      ]
     },
     "metadata": {},
     "output_type": "display_data"
    }
   ],
   "source": [
    "f, ax = plt.subplots(figsize=(16, 8));\n",
    "sns.countplot(x=data.iloc[:, 1], hue=data.iloc[:, 15], data=data);\n",
    "\n",
    "ax.legend(loc='upper right'); ax.set_title('Imagine that you meet a South Korean. In your mind, how is the South Korean?');\n",
    "L=plt.legend()\n",
    "L.get_texts()[0].set_text('Very bad person')\n",
    "L.get_texts()[1].set_text('Bad person')\n",
    "L.get_texts()[2].set_text('Just a person')\n",
    "L.get_texts()[3].set_text('Good person')\n",
    "L.get_texts()[4].set_text('Very good person')"
   ]
  },
  {
   "cell_type": "code",
   "execution_count": 48,
   "metadata": {},
   "outputs": [
    {
     "data": {
      "text/html": [
       "<div>\n",
       "<style scoped>\n",
       "    .dataframe tbody tr th:only-of-type {\n",
       "        vertical-align: middle;\n",
       "    }\n",
       "\n",
       "    .dataframe tbody tr th {\n",
       "        vertical-align: top;\n",
       "    }\n",
       "\n",
       "    .dataframe thead th {\n",
       "        text-align: right;\n",
       "    }\n",
       "</style>\n",
       "<table border=\"1\" class=\"dataframe\">\n",
       "  <thead>\n",
       "    <tr style=\"text-align: right;\">\n",
       "      <th>Gender</th>\n",
       "      <th>Female</th>\n",
       "      <th>Male</th>\n",
       "      <th>Other</th>\n",
       "    </tr>\n",
       "    <tr>\n",
       "      <th>Imagine that you meet a South Korean. In your mind, how is the South Korean?</th>\n",
       "      <th></th>\n",
       "      <th></th>\n",
       "      <th></th>\n",
       "    </tr>\n",
       "  </thead>\n",
       "  <tbody>\n",
       "    <tr>\n",
       "      <th>1</th>\n",
       "      <td>1.0</td>\n",
       "      <td>NaN</td>\n",
       "      <td>NaN</td>\n",
       "    </tr>\n",
       "    <tr>\n",
       "      <th>2</th>\n",
       "      <td>1.0</td>\n",
       "      <td>NaN</td>\n",
       "      <td>NaN</td>\n",
       "    </tr>\n",
       "    <tr>\n",
       "      <th>3</th>\n",
       "      <td>134.0</td>\n",
       "      <td>46.0</td>\n",
       "      <td>3.0</td>\n",
       "    </tr>\n",
       "    <tr>\n",
       "      <th>4</th>\n",
       "      <td>58.0</td>\n",
       "      <td>23.0</td>\n",
       "      <td>NaN</td>\n",
       "    </tr>\n",
       "    <tr>\n",
       "      <th>5</th>\n",
       "      <td>6.0</td>\n",
       "      <td>5.0</td>\n",
       "      <td>NaN</td>\n",
       "    </tr>\n",
       "  </tbody>\n",
       "</table>\n",
       "</div>"
      ],
      "text/plain": [
       "Gender                                              Female  Male  Other\n",
       "Imagine that you meet a South Korean. In your m...                     \n",
       "1                                                      1.0   NaN    NaN\n",
       "2                                                      1.0   NaN    NaN\n",
       "3                                                    134.0  46.0    3.0\n",
       "4                                                     58.0  23.0    NaN\n",
       "5                                                      6.0   5.0    NaN"
      ]
     },
     "execution_count": 48,
     "metadata": {},
     "output_type": "execute_result"
    }
   ],
   "source": [
    "data.groupby(['Imagine that you meet a South Korean. In your mind, how is the South Korean?', 'Gender']).size().unstack()"
   ]
  },
  {
   "cell_type": "code",
   "execution_count": 49,
   "metadata": {},
   "outputs": [
    {
     "data": {
      "image/png": "[encoded data removed]",
      "text/plain": [
       "<Figure size 1152x576 with 1 Axes>"
      ]
     },
     "metadata": {},
     "output_type": "display_data"
    }
   ],
   "source": [
    "f, ax = plt.subplots(figsize=(16, 8));\n",
    "sns.countplot(x=data.iloc[:, 2], hue=data.iloc[:, 15], data=data);\n",
    "\n",
    "ax.legend(loc='upper right'); ax.set_title('Imagine that you meet a South Korean. In your mind, how is the South Korean?');\n",
    "L=plt.legend()\n",
    "L.get_texts()[0].set_text('Very bad person')\n",
    "L.get_texts()[1].set_text('Bad person')\n",
    "L.get_texts()[2].set_text('Just a person')\n",
    "L.get_texts()[3].set_text('Good person')\n",
    "L.get_texts()[4].set_text('Very good person')"
   ]
  },
  {
   "cell_type": "code",
   "execution_count": 50,
   "metadata": {
    "scrolled": true
   },
   "outputs": [
    {
     "data": {
      "text/html": [
       "<div>\n",
       "<style scoped>\n",
       "    .dataframe tbody tr th:only-of-type {\n",
       "        vertical-align: middle;\n",
       "    }\n",
       "\n",
       "    .dataframe tbody tr th {\n",
       "        vertical-align: top;\n",
       "    }\n",
       "\n",
       "    .dataframe thead th {\n",
       "        text-align: right;\n",
       "    }\n",
       "</style>\n",
       "<table border=\"1\" class=\"dataframe\">\n",
       "  <thead>\n",
       "    <tr style=\"text-align: right;\">\n",
       "      <th>Residence</th>\n",
       "      <th>Bangkok</th>\n",
       "      <th>Other cities</th>\n",
       "    </tr>\n",
       "    <tr>\n",
       "      <th>Imagine that you meet a South Korean. In your mind, how is the South Korean?</th>\n",
       "      <th></th>\n",
       "      <th></th>\n",
       "    </tr>\n",
       "  </thead>\n",
       "  <tbody>\n",
       "    <tr>\n",
       "      <th>1</th>\n",
       "      <td>NaN</td>\n",
       "      <td>1.0</td>\n",
       "    </tr>\n",
       "    <tr>\n",
       "      <th>2</th>\n",
       "      <td>1.0</td>\n",
       "      <td>NaN</td>\n",
       "    </tr>\n",
       "    <tr>\n",
       "      <th>3</th>\n",
       "      <td>149.0</td>\n",
       "      <td>34.0</td>\n",
       "    </tr>\n",
       "    <tr>\n",
       "      <th>4</th>\n",
       "      <td>52.0</td>\n",
       "      <td>29.0</td>\n",
       "    </tr>\n",
       "    <tr>\n",
       "      <th>5</th>\n",
       "      <td>9.0</td>\n",
       "      <td>2.0</td>\n",
       "    </tr>\n",
       "  </tbody>\n",
       "</table>\n",
       "</div>"
      ],
      "text/plain": [
       "Residence                                           Bangkok  Other cities\n",
       "Imagine that you meet a South Korean. In your m...                       \n",
       "1                                                       NaN           1.0\n",
       "2                                                       1.0           NaN\n",
       "3                                                     149.0          34.0\n",
       "4                                                      52.0          29.0\n",
       "5                                                       9.0           2.0"
      ]
     },
     "execution_count": 50,
     "metadata": {},
     "output_type": "execute_result"
    }
   ],
   "source": [
    "data.groupby(['Imagine that you meet a South Korean. In your mind, how is the South Korean?', 'Residence']).size().unstack()"
   ]
  },
  {
   "cell_type": "markdown",
   "metadata": {},
   "source": [
    "> ### Summary\n",
    "#### จากข้อมูลข้างบน จะเห็นแนวโน้มของทัศนคติคนไทยที่มีต่อคนเกาหลีใต้ อยู่ในเกณฑ์ปานกลางถึงดี ในทุกๆ Factor\n",
    "#### โดยเมื่อหาคะแนนรวมของทุก Factor ได้ดังนี้"
   ]
  },
  {
   "cell_type": "code",
   "execution_count": 51,
   "metadata": {},
   "outputs": [
    {
     "data": {
      "text/plain": [
       "3.3610108303249095"
      ]
     },
     "execution_count": 51,
     "metadata": {},
     "output_type": "execute_result"
    }
   ],
   "source": [
    "data.iloc[:, 15].mean()"
   ]
  },
  {
   "cell_type": "markdown",
   "metadata": {},
   "source": [
    "> ### 5. ความประทับใจในตัวประเทศเกาหลีใต้ของกลุ่มตัวอย่างคนไทย"
   ]
  },
  {
   "cell_type": "markdown",
   "metadata": {},
   "source": [
    "##### `Do you want to re-visit South Korea again?` for person who.. `Have you ever visited South Korea before? == Yes`"
   ]
  },
  {
   "cell_type": "code",
   "execution_count": 59,
   "metadata": {},
   "outputs": [
    {
     "data": {
      "text/plain": [
       "If YES, do you want to re-visit South Korea again?\n",
       "No ไม่อยาก      6\n",
       "Yes อยาก      122\n",
       "Name: Yes, dtype: int64"
      ]
     },
     "execution_count": 59,
     "metadata": {},
     "output_type": "execute_result"
    }
   ],
   "source": [
    "data.groupby(['Have you ever visited South Korea before?', 'If YES, do you want to re-visit South Korea again?'])\\\n",
    ".size().unstack().iloc[1, :]"
   ]
  },
  {
   "cell_type": "markdown",
   "metadata": {},
   "source": [
    "##### `Have you ever planned to visit South Korea in the future?` for person who.. `Have you ever visited South Korea before? == No`"
   ]
  },
  {
   "cell_type": "code",
   "execution_count": 58,
   "metadata": {},
   "outputs": [
    {
     "data": {
      "text/plain": [
       "If NO, have you ever planned to visit South Korea in the future?\n",
       "No ไม่อยาก     23\n",
       "Yes อยาก      121\n",
       "Name: No, dtype: int64"
      ]
     },
     "execution_count": 58,
     "metadata": {},
     "output_type": "execute_result"
    }
   ],
   "source": [
    "data.groupby(['Have you ever visited South Korea before?', 'If NO, have you ever planned to visit South Korea in the future?'])\\\n",
    ".size().unstack().iloc[0, :]"
   ]
  },
  {
   "cell_type": "code",
   "execution_count": 63,
   "metadata": {},
   "outputs": [
    {
     "name": "stdout",
     "output_type": "stream",
     "text": [
      "Ratio of the sample who have ever visited South Korea and want to re-visit again: 0.953125\n",
      "Ratio of the sample who have not ever visited South Korea but planned to visit in the future: 0.8402777777777778\n"
     ]
    }
   ],
   "source": [
    "print('Ratio of the sample who have ever visited South Korea and want to re-visit again:', 122/128)\n",
    "print('Ratio of the sample who have not ever visited South Korea but planned to visit in the future:', 121/144)"
   ]
  },
  {
   "cell_type": "markdown",
   "metadata": {},
   "source": [
    "> ### Summary\n",
    "#### จากข้อมูลด้านบนจะเห็นได้ว่ามีผู้ที่เคยไปเกาหลีมาก่อนแล้วอยากกลับมาเที่ยวอีกครั้งถึง 95.31%\n",
    "#### และมีผู้ที่ไม่เคยไปเกาหลีมาก่อนแต่เคยวางแผนที่จะไปเที่ยวถึง 84.03%\n",
    "#### ดังนั้นจึงสรุปได้ว่าเกาหลีเป็นประเทศที่คนไทยส่วนใหญ่(ทั้งที่เคยไปและไม่เคยไป)อยากจะลองไปเที่ยวหรือกลับไปเที่ยวอีกครั้ง"
   ]
  }
 ],
 "metadata": {
  "kernelspec": {
   "display_name": "Python 3",
   "language": "python",
   "name": "python3"
  },
  "language_info": {
   "codemirror_mode": {
    "name": "ipython",
    "version": 3
   },
   "file_extension": ".py",
   "mimetype": "text/x-python",
   "name": "python",
   "nbconvert_exporter": "python",
   "pygments_lexer": "ipython3",
   "version": "3.6.4"
  }
 },
 "nbformat": 4,
 "nbformat_minor": 2
}
