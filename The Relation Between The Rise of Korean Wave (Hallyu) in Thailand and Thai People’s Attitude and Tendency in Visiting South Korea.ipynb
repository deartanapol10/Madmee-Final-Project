{
 "cells": [
  {
   "cell_type": "markdown",
   "metadata": {},
   "source": [
    "# Analysis on The Relation Between The Rise of Korean Wave (Hallyu) in Thailand and Thai People’s Attitude and Tendency in Visiting South Korea"
   ]
  },
  {
   "cell_type": "markdown",
   "metadata": {},
   "source": [
    "------------"
   ]
  },
  {
   "cell_type": "markdown",
   "metadata": {},
   "source": [
    "Import some useful libraries"
   ]
  },
  {
   "cell_type": "code",
   "execution_count": 54,
   "metadata": {},
   "outputs": [],
   "source": [
    "import pandas as pd\n",
    "import seaborn as sns\n",
    "import matplotlib.pyplot as plt\n",
    "import numpy as np\n",
    "%matplotlib inline"
   ]
  },
  {
   "cell_type": "markdown",
   "metadata": {},
   "source": [
    "Export the collected data from...\n",
    "\n",
    "(Source link) : https://docs.google.com/forms/d/e/1FAIpQLSczee1CkfgpVCRRgNr0sqGynRP1Kx5YiYjGvZXPotc7tH9NXw/viewform\n",
    "\n",
    "To .csv file and then import to this jupyter notebook "
   ]
  },
  {
   "cell_type": "code",
   "execution_count": 2,
   "metadata": {},
   "outputs": [],
   "source": [
    "data = pd.read_csv('data.csv')"
   ]
  },
  {
   "cell_type": "markdown",
   "metadata": {},
   "source": [
    "------------"
   ]
  },
  {
   "cell_type": "markdown",
   "metadata": {},
   "source": [
    "## Data Cleansing"
   ]
  },
  {
   "cell_type": "markdown",
   "metadata": {},
   "source": [
    "Check the data columns"
   ]
  },
  {
   "cell_type": "code",
   "execution_count": 3,
   "metadata": {},
   "outputs": [
    {
     "data": {
      "text/plain": [
       "Index(['Timestamp', '1. Age อายุ', '2. Gender เพศ', '3. Residence ถิ่นที่อยู่',\n",
       "       '4. Have you ever consumed any Korean media products, as follows? คุณเคยบริโภคสื่อบันเทิงจากประเทศเกาหลีใต้ข้างต้นหรือไม่? [Korean dramas ซีรีส์เกาหลี]',\n",
       "       '4. Have you ever consumed any Korean media products, as follows? คุณเคยบริโภคสื่อบันเทิงจากประเทศเกาหลีใต้ข้างต้นหรือไม่? [Korean songs เพลงเกาหลี]',\n",
       "       '4. Have you ever consumed any Korean media products, as follows? คุณเคยบริโภคสื่อบันเทิงจากประเทศเกาหลีใต้ข้างต้นหรือไม่? [Korean films ภาพยนตร์เกาหลี]',\n",
       "       '5. How long have you been exposed to Korean Wave? (Please provide your answer in the unit of month or year) คุณได้รู้จัก/คุ้นเคยกับกระแสนิยมเกาหลีเป็นเวลานานเท่าไรแล้ว? (กรุณาระบุช่วงเวลาเป็นเดือนหรือปี)',\n",
       "       '6. Do you enjoy Korean media products? คุณชื่นชอบสื่อบันเทิงจากประเทศเกาหลีใต้หรือไม่?',\n",
       "       '7. If you enjoy Korean media products, then how often do you consume Korean media products in a typical week? คุณบริโภคสื่อบันเทิงเกาหลีใต้บ่อยแค่ไหน?',\n",
       "       '8. For what purpose do you enjoy Korean media products? (Please rate your subjective agreement on the provided statements) ด้วยเหตุผลใดคุณจึงชื่นชอบสื่อบันเทิงจากประเทศเกาหลีใต้? (กรุณาเลือกระดับความเห็นด้วยในทุกๆข้อ) [Because I like the products เพราะว่าชอบตัวสื่อบันเทิงจากประเทศเกาหลีใต้]',\n",
       "       '8. For what purpose do you enjoy Korean media products? (Please rate your subjective agreement on the provided statements) ด้วยเหตุผลใดคุณจึงชื่นชอบสื่อบันเทิงจากประเทศเกาหลีใต้? (กรุณาเลือกระดับความเห็นด้วยในทุกๆข้อ) [Because the products are popular among the peers เพราะว่าสื่อประเทศเกาหลีใต้เป็นที่นิยมในหมู่คนรู้จัก]',\n",
       "       '8. For what purpose do you enjoy Korean media products? (Please rate your subjective agreement on the provided statements) ด้วยเหตุผลใดคุณจึงชื่นชอบสื่อบันเทิงจากประเทศเกาหลีใต้? (กรุณาเลือกระดับความเห็นด้วยในทุกๆข้อ) [Because my friends recommended เพราะว่ามีคนรู้จักแนะนำ]',\n",
       "       '8. For what purpose do you enjoy Korean media products? (Please rate your subjective agreement on the provided statements) ด้วยเหตุผลใดคุณจึงชื่นชอบสื่อบันเทิงจากประเทศเกาหลีใต้? (กรุณาเลือกระดับความเห็นด้วยในทุกๆข้อ) [For time-killing purpose เพื่อฆ่าเวลา]',\n",
       "       '8. For what purpose do you enjoy Korean media products? (Please rate your subjective agreement on the provided statements) ด้วยเหตุผลใดคุณจึงชื่นชอบสื่อบันเทิงจากประเทศเกาหลีใต้? (กรุณาเลือกระดับความเห็นด้วยในทุกๆข้อ) [Because I like to learn Korean language เพราะว่าต้องการเรียนภาษาเกาหลี]',\n",
       "       '8. For what purpose do you enjoy Korean media products? (Please rate your subjective agreement on the provided statements) ด้วยเหตุผลใดคุณจึงชื่นชอบสื่อบันเทิงจากประเทศเกาหลีใต้? (กรุณาเลือกระดับความเห็นด้วยในทุกๆข้อ) [Because I want to know about Korean society and culture เพราะว่าต้องการเรียนรู้วัฒนธรรมเกาหลี]',\n",
       "       '9. How much are you satisfied with the quality of Korean media products?  ระดับความพึงพอใจในคุณภาพของสื่อบันเทิงเกาหลีใต้',\n",
       "       '10. When you think about South Korea, how do you feel?  เมื่อนึกถึงประเทศเกาหลีใต้ คุณรู้สึกว่าประเทศเกาหลีใต้เป็นประเทศอย่างไร?',\n",
       "       '11. Imagine that you meet a South Korean. In your mind, how is the South Korean? สมมติว่าคุณได้มีโอกาสพบกับคนเกาหลี คุณคิดว่าคนเกาหลีใต้เป็นคนอย่างไร?',\n",
       "       '12. Have you ever visited South Korea before? คุณเคยไปประเทศเกาหลีใต้หรือไม่?',\n",
       "       '13. If YES, do you want to re-visit South Korea again? ถ้าเคยไปประเทศเกาหลีใต้มาก่อน อยากจะกลับไปอีกครั้งหรือไม่?',\n",
       "       '14. If NO, have you ever planned to visit South Korea in the future? ถ้าไม่เคยไปประเทศเกาหลีใต้มาก่อน อยากจะลองไปสักครั้งหรือไม่?',\n",
       "       '15. How many Korean friends do you have?  (Please provide your answer in cardinal number if possible) คุณมีเพื่อนชาวเกาหลีใต้ประมาณกี่คน? ',\n",
       "       '16. Can you speak some Korean words?  คุณสามารถพูดภาษาเกาหลีได้หรือไม่?',\n",
       "       '17. If YES, how proficient is your Korean? ถ้าคุณสามารถพูดภาษาเกาหลีได้ ความสามารถทางภาษาเกาหลีของคุณอยู่ในระดับใด?'],\n",
       "      dtype='object')"
      ]
     },
     "execution_count": 3,
     "metadata": {},
     "output_type": "execute_result"
    }
   ],
   "source": [
    "data.columns"
   ]
  },
  {
   "cell_type": "code",
   "execution_count": 4,
   "metadata": {},
   "outputs": [],
   "source": [
    "data.columns = ['Timestamp', 'Age', 'Gender', 'Residence', \\\n",
    "                'Have you ever consumed any Korean Dramas?', \\\n",
    "                'Have you ever consumed any Korean Songs?', \\\n",
    "                'Have you ever consumed any Korean Films?', \\\n",
    "                'How long have you been exposed to Korean Wave?', \\\n",
    "                'Do you enjoy Korean media products?', \\\n",
    "                'How often do you consume Korean media products in a typical week?', \\\n",
    "                'Enjoy Korean media products because I like the products', \\\n",
    "                'Enjoy Korean media products because the products are popular among the peers', \\\n",
    "                'Enjoy Korean media products because my friends recommended', \\\n",
    "                'Enjoy Korean media products for time-killing purpose', \\\n",
    "                'Enjoy Korean media products because I like to learn Korean language', \\\n",
    "                'Enjoy Korean media products because I want to know about Korean society and culture', \\\n",
    "                'How much are you satisfied with the quality of Korean media products?', \\\n",
    "                'When you think about South Korea, how do you feel?', \\\n",
    "                'Imagine that you meet a South Korean. In your mind, how is the South Korean?', \\\n",
    "                'Have you ever visited South Korea before?', \\\n",
    "                'If YES, do you want to re-visit South Korea again?', \\\n",
    "                'If NO, have you ever planned to visit South Korea in the future?', \\\n",
    "                'How many Korean friends do you have?', \\\n",
    "                'Can you speak some Korean words?', \\\n",
    "                'If YES, how proficient is your Korean?']"
   ]
  },
  {
   "cell_type": "code",
   "execution_count": 5,
   "metadata": {},
   "outputs": [
    {
     "data": {
      "text/plain": [
       "Index(['Timestamp', 'Age', 'Gender', 'Residence',\n",
       "       'Have you ever consumed any Korean Dramas?',\n",
       "       'Have you ever consumed any Korean Songs?',\n",
       "       'Have you ever consumed any Korean Films?',\n",
       "       'How long have you been exposed to Korean Wave?',\n",
       "       'Do you enjoy Korean media products?',\n",
       "       'How often do you consume Korean media products in a typical week?',\n",
       "       'Enjoy Korean media products because I like the products',\n",
       "       'Enjoy Korean media products because the products are popular among the peers',\n",
       "       'Enjoy Korean media products because my friends recommended',\n",
       "       'Enjoy Korean media products for time-killing purpose',\n",
       "       'Enjoy Korean media products because I like to learn Korean language',\n",
       "       'Enjoy Korean media products because I want to know about Korean society and culture',\n",
       "       'How much are you satisfied with the quality of Korean media products?',\n",
       "       'When you think about South Korea, how do you feel?',\n",
       "       'Imagine that you meet a South Korean. In your mind, how is the South Korean?',\n",
       "       'Have you ever visited South Korea before?',\n",
       "       'If YES, do you want to re-visit South Korea again?',\n",
       "       'If NO, have you ever planned to visit South Korea in the future?',\n",
       "       'How many Korean friends do you have?',\n",
       "       'Can you speak some Korean words?',\n",
       "       'If YES, how proficient is your Korean?'],\n",
       "      dtype='object')"
      ]
     },
     "execution_count": 5,
     "metadata": {},
     "output_type": "execute_result"
    }
   ],
   "source": [
    "data.columns"
   ]
  },
  {
   "cell_type": "code",
   "execution_count": 6,
   "metadata": {},
   "outputs": [],
   "source": [
    "data.drop(['Timestamp', 'How long have you been exposed to Korean Wave?',\\\n",
    "           'When you think about South Korea, how do you feel?',\\\n",
    "           'How many Korean friends do you have?',\\\n",
    "           'Can you speak some Korean words?',\\\n",
    "           'If YES, how proficient is your Korean?'], axis=1, inplace=True)"
   ]
  },
  {
   "cell_type": "code",
   "execution_count": 7,
   "metadata": {},
   "outputs": [
    {
     "data": {
      "text/html": [
       "<div>\n",
       "<style scoped>\n",
       "    .dataframe tbody tr th:only-of-type {\n",
       "        vertical-align: middle;\n",
       "    }\n",
       "\n",
       "    .dataframe tbody tr th {\n",
       "        vertical-align: top;\n",
       "    }\n",
       "\n",
       "    .dataframe thead th {\n",
       "        text-align: right;\n",
       "    }\n",
       "</style>\n",
       "<table border=\"1\" class=\"dataframe\">\n",
       "  <thead>\n",
       "    <tr style=\"text-align: right;\">\n",
       "      <th></th>\n",
       "      <th>Age</th>\n",
       "      <th>Gender</th>\n",
       "      <th>Residence</th>\n",
       "      <th>Have you ever consumed any Korean Dramas?</th>\n",
       "      <th>Have you ever consumed any Korean Songs?</th>\n",
       "      <th>Have you ever consumed any Korean Films?</th>\n",
       "      <th>Do you enjoy Korean media products?</th>\n",
       "      <th>How often do you consume Korean media products in a typical week?</th>\n",
       "      <th>Enjoy Korean media products because I like the products</th>\n",
       "      <th>Enjoy Korean media products because the products are popular among the peers</th>\n",
       "      <th>Enjoy Korean media products because my friends recommended</th>\n",
       "      <th>Enjoy Korean media products for time-killing purpose</th>\n",
       "      <th>Enjoy Korean media products because I like to learn Korean language</th>\n",
       "      <th>Enjoy Korean media products because I want to know about Korean society and culture</th>\n",
       "      <th>How much are you satisfied with the quality of Korean media products?</th>\n",
       "      <th>Imagine that you meet a South Korean. In your mind, how is the South Korean?</th>\n",
       "      <th>Have you ever visited South Korea before?</th>\n",
       "      <th>If YES, do you want to re-visit South Korea again?</th>\n",
       "      <th>If NO, have you ever planned to visit South Korea in the future?</th>\n",
       "    </tr>\n",
       "  </thead>\n",
       "  <tbody>\n",
       "    <tr>\n",
       "      <th>0</th>\n",
       "      <td>21</td>\n",
       "      <td>Female  หญิง</td>\n",
       "      <td>Bangkok กรุงเทพมหานคร</td>\n",
       "      <td>Yes ใช่</td>\n",
       "      <td>Yes ใช่</td>\n",
       "      <td>Yes ใช่</td>\n",
       "      <td>Yes  ชอบ</td>\n",
       "      <td>Everyday ทุกวัน</td>\n",
       "      <td>Agree เห็นด้วย</td>\n",
       "      <td>Agree เห็นด้วย</td>\n",
       "      <td>Agree เห็นด้วย</td>\n",
       "      <td>Agree เห็นด้วย</td>\n",
       "      <td>Agree เห็นด้วย</td>\n",
       "      <td>Neither disagree nor agree กลางๆ</td>\n",
       "      <td>Satisfied พอใจ</td>\n",
       "      <td>Just a person เป็นเพียงคนๆหนึ่ง</td>\n",
       "      <td>Yes  เคย</td>\n",
       "      <td>Yes อยาก</td>\n",
       "      <td>NaN</td>\n",
       "    </tr>\n",
       "    <tr>\n",
       "      <th>1</th>\n",
       "      <td>54</td>\n",
       "      <td>Female  หญิง</td>\n",
       "      <td>Bangkok กรุงเทพมหานคร</td>\n",
       "      <td>Yes ใช่</td>\n",
       "      <td>Yes ใช่</td>\n",
       "      <td>Yes ใช่</td>\n",
       "      <td>Yes  ชอบ</td>\n",
       "      <td>One day per week  1 วันต่อสัปดาห์</td>\n",
       "      <td>Agree เห็นด้วย</td>\n",
       "      <td>Agree เห็นด้วย</td>\n",
       "      <td>Agree เห็นด้วย</td>\n",
       "      <td>Disagree ไม่เห็นด้วย</td>\n",
       "      <td>Disagree ไม่เห็นด้วย</td>\n",
       "      <td>Neither disagree nor agree กลางๆ</td>\n",
       "      <td>Satisfied พอใจ</td>\n",
       "      <td>Just a person เป็นเพียงคนๆหนึ่ง</td>\n",
       "      <td>Yes  เคย</td>\n",
       "      <td>Yes อยาก</td>\n",
       "      <td>Yes อยาก</td>\n",
       "    </tr>\n",
       "    <tr>\n",
       "      <th>2</th>\n",
       "      <td>22</td>\n",
       "      <td>Female  หญิง</td>\n",
       "      <td>Bangkok กรุงเทพมหานคร</td>\n",
       "      <td>Yes ใช่</td>\n",
       "      <td>Yes ใช่</td>\n",
       "      <td>Yes ใช่</td>\n",
       "      <td>Yes  ชอบ</td>\n",
       "      <td>Everyday ทุกวัน</td>\n",
       "      <td>Neither disagree nor agree กลางๆ</td>\n",
       "      <td>Neither disagree nor agree กลางๆ</td>\n",
       "      <td>Neither disagree nor agree กลางๆ</td>\n",
       "      <td>Neither disagree nor agree กลางๆ</td>\n",
       "      <td>Neither disagree nor agree กลางๆ</td>\n",
       "      <td>Neither disagree nor agree กลางๆ</td>\n",
       "      <td>Neither satisfied nor dissatisfied ปานกลาง</td>\n",
       "      <td>Just a person เป็นเพียงคนๆหนึ่ง</td>\n",
       "      <td>Yes  เคย</td>\n",
       "      <td>Yes อยาก</td>\n",
       "      <td>Yes อยาก</td>\n",
       "    </tr>\n",
       "    <tr>\n",
       "      <th>3</th>\n",
       "      <td>19</td>\n",
       "      <td>Female  หญิง</td>\n",
       "      <td>Other cities  ต่างจังหวัด</td>\n",
       "      <td>Yes ใช่</td>\n",
       "      <td>Yes ใช่</td>\n",
       "      <td>Yes ใช่</td>\n",
       "      <td>Yes  ชอบ</td>\n",
       "      <td>Three days per week  3 วันต่อสัปดาห์</td>\n",
       "      <td>Agree เห็นด้วย</td>\n",
       "      <td>Neither disagree nor agree กลางๆ</td>\n",
       "      <td>Neither disagree nor agree กลางๆ</td>\n",
       "      <td>Agree เห็นด้วย</td>\n",
       "      <td>Agree เห็นด้วย</td>\n",
       "      <td>Agree เห็นด้วย</td>\n",
       "      <td>Satisfied พอใจ</td>\n",
       "      <td>Good person เป็นคนดี</td>\n",
       "      <td>Yes  เคย</td>\n",
       "      <td>Yes อยาก</td>\n",
       "      <td>Yes อยาก</td>\n",
       "    </tr>\n",
       "  </tbody>\n",
       "</table>\n",
       "</div>"
      ],
      "text/plain": [
       "  Age        Gender                  Residence  \\\n",
       "0  21  Female  หญิง      Bangkok กรุงเทพมหานคร   \n",
       "1  54  Female  หญิง      Bangkok กรุงเทพมหานคร   \n",
       "2  22  Female  หญิง      Bangkok กรุงเทพมหานคร   \n",
       "3  19  Female  หญิง  Other cities  ต่างจังหวัด   \n",
       "\n",
       "  Have you ever consumed any Korean Dramas?  \\\n",
       "0                                   Yes ใช่   \n",
       "1                                   Yes ใช่   \n",
       "2                                   Yes ใช่   \n",
       "3                                   Yes ใช่   \n",
       "\n",
       "  Have you ever consumed any Korean Songs?  \\\n",
       "0                                  Yes ใช่   \n",
       "1                                  Yes ใช่   \n",
       "2                                  Yes ใช่   \n",
       "3                                  Yes ใช่   \n",
       "\n",
       "  Have you ever consumed any Korean Films?  \\\n",
       "0                                  Yes ใช่   \n",
       "1                                  Yes ใช่   \n",
       "2                                  Yes ใช่   \n",
       "3                                  Yes ใช่   \n",
       "\n",
       "  Do you enjoy Korean media products?  \\\n",
       "0                            Yes  ชอบ   \n",
       "1                            Yes  ชอบ   \n",
       "2                            Yes  ชอบ   \n",
       "3                            Yes  ชอบ   \n",
       "\n",
       "  How often do you consume Korean media products in a typical week?  \\\n",
       "0                                    Everyday ทุกวัน                  \n",
       "1                  One day per week  1 วันต่อสัปดาห์                  \n",
       "2                                    Everyday ทุกวัน                  \n",
       "3               Three days per week  3 วันต่อสัปดาห์                  \n",
       "\n",
       "  Enjoy Korean media products because I like the products  \\\n",
       "0                                     Agree เห็นด้วย        \n",
       "1                                     Agree เห็นด้วย        \n",
       "2                   Neither disagree nor agree กลางๆ        \n",
       "3                                     Agree เห็นด้วย        \n",
       "\n",
       "  Enjoy Korean media products because the products are popular among the peers  \\\n",
       "0                                     Agree เห็นด้วย                             \n",
       "1                                     Agree เห็นด้วย                             \n",
       "2                   Neither disagree nor agree กลางๆ                             \n",
       "3                   Neither disagree nor agree กลางๆ                             \n",
       "\n",
       "  Enjoy Korean media products because my friends recommended  \\\n",
       "0                                     Agree เห็นด้วย           \n",
       "1                                     Agree เห็นด้วย           \n",
       "2                   Neither disagree nor agree กลางๆ           \n",
       "3                   Neither disagree nor agree กลางๆ           \n",
       "\n",
       "  Enjoy Korean media products for time-killing purpose  \\\n",
       "0                                     Agree เห็นด้วย     \n",
       "1                               Disagree ไม่เห็นด้วย     \n",
       "2                   Neither disagree nor agree กลางๆ     \n",
       "3                                     Agree เห็นด้วย     \n",
       "\n",
       "  Enjoy Korean media products because I like to learn Korean language  \\\n",
       "0                                     Agree เห็นด้วย                    \n",
       "1                               Disagree ไม่เห็นด้วย                    \n",
       "2                   Neither disagree nor agree กลางๆ                    \n",
       "3                                     Agree เห็นด้วย                    \n",
       "\n",
       "  Enjoy Korean media products because I want to know about Korean society and culture  \\\n",
       "0                   Neither disagree nor agree กลางๆ                                    \n",
       "1                   Neither disagree nor agree กลางๆ                                    \n",
       "2                   Neither disagree nor agree กลางๆ                                    \n",
       "3                                     Agree เห็นด้วย                                    \n",
       "\n",
       "  How much are you satisfied with the quality of Korean media products?  \\\n",
       "0                                     Satisfied พอใจ                      \n",
       "1                                     Satisfied พอใจ                      \n",
       "2         Neither satisfied nor dissatisfied ปานกลาง                      \n",
       "3                                     Satisfied พอใจ                      \n",
       "\n",
       "  Imagine that you meet a South Korean. In your mind, how is the South Korean?  \\\n",
       "0                    Just a person เป็นเพียงคนๆหนึ่ง                             \n",
       "1                    Just a person เป็นเพียงคนๆหนึ่ง                             \n",
       "2                    Just a person เป็นเพียงคนๆหนึ่ง                             \n",
       "3                               Good person เป็นคนดี                             \n",
       "\n",
       "  Have you ever visited South Korea before?  \\\n",
       "0                                  Yes  เคย   \n",
       "1                                  Yes  เคย   \n",
       "2                                  Yes  เคย   \n",
       "3                                  Yes  เคย   \n",
       "\n",
       "  If YES, do you want to re-visit South Korea again?  \\\n",
       "0                                           Yes อยาก   \n",
       "1                                           Yes อยาก   \n",
       "2                                           Yes อยาก   \n",
       "3                                           Yes อยาก   \n",
       "\n",
       "  If NO, have you ever planned to visit South Korea in the future?  \n",
       "0                                                NaN                \n",
       "1                                           Yes อยาก                \n",
       "2                                           Yes อยาก                \n",
       "3                                           Yes อยาก                "
      ]
     },
     "execution_count": 7,
     "metadata": {},
     "output_type": "execute_result"
    }
   ],
   "source": [
    "data.head(4)"
   ]
  },
  {
   "cell_type": "code",
   "execution_count": 8,
   "metadata": {},
   "outputs": [],
   "source": [
    "for n in range (len(data.columns)) :\n",
    "    if data[data.columns[n]].isnull().sum() == 0 :\n",
    "        if len(data.iloc[0, n].split(' ')) > 1 :\n",
    "            data[data.columns[n]] = [data.iloc[i, n].split(' ')[: -1] for i, j in enumerate(data[data.columns[n]])]\n",
    "            data[data.columns[n]] = [' '.join(data.iloc[i, n]).strip() for i, j in enumerate(data[data.columns[n]])]"
   ]
  },
  {
   "cell_type": "code",
   "execution_count": 9,
   "metadata": {},
   "outputs": [
    {
     "data": {
      "text/plain": [
       "0         21\n",
       "1         54\n",
       "2         22\n",
       "3         19\n",
       "4         22\n",
       "5         21\n",
       "6         22\n",
       "7         44\n",
       "8         50\n",
       "9         32\n",
       "10        29\n",
       "11        27\n",
       "12        25\n",
       "13        22\n",
       "14        36\n",
       "15        41\n",
       "16        33\n",
       "17        24\n",
       "18        56\n",
       "19        37\n",
       "20        22\n",
       "21        21\n",
       "22        34\n",
       "23        21\n",
       "24        22\n",
       "25        23\n",
       "26     47 ปี\n",
       "27        22\n",
       "28        23\n",
       "29        21\n",
       "       ...  \n",
       "247       30\n",
       "248       34\n",
       "249       21\n",
       "250    54 ปี\n",
       "251       61\n",
       "252       19\n",
       "253       15\n",
       "254       20\n",
       "255       16\n",
       "256       28\n",
       "257       14\n",
       "258       19\n",
       "259       54\n",
       "260       37\n",
       "261       37\n",
       "262       19\n",
       "263       44\n",
       "264       62\n",
       "265       20\n",
       "266       20\n",
       "267       23\n",
       "268       36\n",
       "269       20\n",
       "270       18\n",
       "271       18\n",
       "272       18\n",
       "273       22\n",
       "274       20\n",
       "275       19\n",
       "276       18\n",
       "Name: Age, Length: 277, dtype: object"
      ]
     },
     "execution_count": 9,
     "metadata": {},
     "output_type": "execute_result"
    }
   ],
   "source": [
    "data['Age']"
   ]
  },
  {
   "cell_type": "code",
   "execution_count": 29,
   "metadata": {},
   "outputs": [],
   "source": [
    "data.iloc[26, 0] = '47'\n",
    "data.iloc[214, 0] = '57'\n",
    "data.iloc[250, 0] = '54'"
   ]
  },
  {
   "cell_type": "code",
   "execution_count": 11,
   "metadata": {},
   "outputs": [
    {
     "data": {
      "text/html": [
       "<div>\n",
       "<style scoped>\n",
       "    .dataframe tbody tr th:only-of-type {\n",
       "        vertical-align: middle;\n",
       "    }\n",
       "\n",
       "    .dataframe tbody tr th {\n",
       "        vertical-align: top;\n",
       "    }\n",
       "\n",
       "    .dataframe thead th {\n",
       "        text-align: right;\n",
       "    }\n",
       "</style>\n",
       "<table border=\"1\" class=\"dataframe\">\n",
       "  <thead>\n",
       "    <tr style=\"text-align: right;\">\n",
       "      <th></th>\n",
       "      <th>Age</th>\n",
       "      <th>Gender</th>\n",
       "      <th>Residence</th>\n",
       "      <th>Have you ever consumed any Korean Dramas?</th>\n",
       "      <th>Have you ever consumed any Korean Songs?</th>\n",
       "      <th>Have you ever consumed any Korean Films?</th>\n",
       "      <th>Do you enjoy Korean media products?</th>\n",
       "      <th>How often do you consume Korean media products in a typical week?</th>\n",
       "      <th>Enjoy Korean media products because I like the products</th>\n",
       "      <th>Enjoy Korean media products because the products are popular among the peers</th>\n",
       "      <th>Enjoy Korean media products because my friends recommended</th>\n",
       "      <th>Enjoy Korean media products for time-killing purpose</th>\n",
       "      <th>Enjoy Korean media products because I like to learn Korean language</th>\n",
       "      <th>Enjoy Korean media products because I want to know about Korean society and culture</th>\n",
       "      <th>How much are you satisfied with the quality of Korean media products?</th>\n",
       "      <th>Imagine that you meet a South Korean. In your mind, how is the South Korean?</th>\n",
       "      <th>Have you ever visited South Korea before?</th>\n",
       "      <th>If YES, do you want to re-visit South Korea again?</th>\n",
       "      <th>If NO, have you ever planned to visit South Korea in the future?</th>\n",
       "    </tr>\n",
       "  </thead>\n",
       "  <tbody>\n",
       "    <tr>\n",
       "      <th>0</th>\n",
       "      <td>21</td>\n",
       "      <td>Female</td>\n",
       "      <td>Bangkok</td>\n",
       "      <td>Yes</td>\n",
       "      <td>Yes</td>\n",
       "      <td>Yes</td>\n",
       "      <td>Yes</td>\n",
       "      <td>Everyday ทุกวัน</td>\n",
       "      <td>Agree</td>\n",
       "      <td>Agree</td>\n",
       "      <td>Agree</td>\n",
       "      <td>Agree</td>\n",
       "      <td>Agree</td>\n",
       "      <td>Neither disagree nor agree</td>\n",
       "      <td>Satisfied</td>\n",
       "      <td>Just a person</td>\n",
       "      <td>Yes</td>\n",
       "      <td>Yes อยาก</td>\n",
       "      <td>NaN</td>\n",
       "    </tr>\n",
       "    <tr>\n",
       "      <th>1</th>\n",
       "      <td>54</td>\n",
       "      <td>Female</td>\n",
       "      <td>Bangkok</td>\n",
       "      <td>Yes</td>\n",
       "      <td>Yes</td>\n",
       "      <td>Yes</td>\n",
       "      <td>Yes</td>\n",
       "      <td>One day per week  1 วันต่อสัปดาห์</td>\n",
       "      <td>Agree</td>\n",
       "      <td>Agree</td>\n",
       "      <td>Agree</td>\n",
       "      <td>Disagree</td>\n",
       "      <td>Disagree</td>\n",
       "      <td>Neither disagree nor agree</td>\n",
       "      <td>Satisfied</td>\n",
       "      <td>Just a person</td>\n",
       "      <td>Yes</td>\n",
       "      <td>Yes อยาก</td>\n",
       "      <td>Yes อยาก</td>\n",
       "    </tr>\n",
       "    <tr>\n",
       "      <th>2</th>\n",
       "      <td>22</td>\n",
       "      <td>Female</td>\n",
       "      <td>Bangkok</td>\n",
       "      <td>Yes</td>\n",
       "      <td>Yes</td>\n",
       "      <td>Yes</td>\n",
       "      <td>Yes</td>\n",
       "      <td>Everyday ทุกวัน</td>\n",
       "      <td>Neither disagree nor agree</td>\n",
       "      <td>Neither disagree nor agree</td>\n",
       "      <td>Neither disagree nor agree</td>\n",
       "      <td>Neither disagree nor agree</td>\n",
       "      <td>Neither disagree nor agree</td>\n",
       "      <td>Neither disagree nor agree</td>\n",
       "      <td>Neither satisfied nor dissatisfied</td>\n",
       "      <td>Just a person</td>\n",
       "      <td>Yes</td>\n",
       "      <td>Yes อยาก</td>\n",
       "      <td>Yes อยาก</td>\n",
       "    </tr>\n",
       "    <tr>\n",
       "      <th>3</th>\n",
       "      <td>19</td>\n",
       "      <td>Female</td>\n",
       "      <td>Other cities</td>\n",
       "      <td>Yes</td>\n",
       "      <td>Yes</td>\n",
       "      <td>Yes</td>\n",
       "      <td>Yes</td>\n",
       "      <td>Three days per week  3 วันต่อสัปดาห์</td>\n",
       "      <td>Agree</td>\n",
       "      <td>Neither disagree nor agree</td>\n",
       "      <td>Neither disagree nor agree</td>\n",
       "      <td>Agree</td>\n",
       "      <td>Agree</td>\n",
       "      <td>Agree</td>\n",
       "      <td>Satisfied</td>\n",
       "      <td>Good person</td>\n",
       "      <td>Yes</td>\n",
       "      <td>Yes อยาก</td>\n",
       "      <td>Yes อยาก</td>\n",
       "    </tr>\n",
       "  </tbody>\n",
       "</table>\n",
       "</div>"
      ],
      "text/plain": [
       "  Age  Gender     Residence Have you ever consumed any Korean Dramas?  \\\n",
       "0  21  Female       Bangkok                                       Yes   \n",
       "1  54  Female       Bangkok                                       Yes   \n",
       "2  22  Female       Bangkok                                       Yes   \n",
       "3  19  Female  Other cities                                       Yes   \n",
       "\n",
       "  Have you ever consumed any Korean Songs?  \\\n",
       "0                                      Yes   \n",
       "1                                      Yes   \n",
       "2                                      Yes   \n",
       "3                                      Yes   \n",
       "\n",
       "  Have you ever consumed any Korean Films?  \\\n",
       "0                                      Yes   \n",
       "1                                      Yes   \n",
       "2                                      Yes   \n",
       "3                                      Yes   \n",
       "\n",
       "  Do you enjoy Korean media products?  \\\n",
       "0                                 Yes   \n",
       "1                                 Yes   \n",
       "2                                 Yes   \n",
       "3                                 Yes   \n",
       "\n",
       "  How often do you consume Korean media products in a typical week?  \\\n",
       "0                                    Everyday ทุกวัน                  \n",
       "1                  One day per week  1 วันต่อสัปดาห์                  \n",
       "2                                    Everyday ทุกวัน                  \n",
       "3               Three days per week  3 วันต่อสัปดาห์                  \n",
       "\n",
       "  Enjoy Korean media products because I like the products  \\\n",
       "0                                              Agree        \n",
       "1                                              Agree        \n",
       "2                         Neither disagree nor agree        \n",
       "3                                              Agree        \n",
       "\n",
       "  Enjoy Korean media products because the products are popular among the peers  \\\n",
       "0                                              Agree                             \n",
       "1                                              Agree                             \n",
       "2                         Neither disagree nor agree                             \n",
       "3                         Neither disagree nor agree                             \n",
       "\n",
       "  Enjoy Korean media products because my friends recommended  \\\n",
       "0                                              Agree           \n",
       "1                                              Agree           \n",
       "2                         Neither disagree nor agree           \n",
       "3                         Neither disagree nor agree           \n",
       "\n",
       "  Enjoy Korean media products for time-killing purpose  \\\n",
       "0                                              Agree     \n",
       "1                                           Disagree     \n",
       "2                         Neither disagree nor agree     \n",
       "3                                              Agree     \n",
       "\n",
       "  Enjoy Korean media products because I like to learn Korean language  \\\n",
       "0                                              Agree                    \n",
       "1                                           Disagree                    \n",
       "2                         Neither disagree nor agree                    \n",
       "3                                              Agree                    \n",
       "\n",
       "  Enjoy Korean media products because I want to know about Korean society and culture  \\\n",
       "0                         Neither disagree nor agree                                    \n",
       "1                         Neither disagree nor agree                                    \n",
       "2                         Neither disagree nor agree                                    \n",
       "3                                              Agree                                    \n",
       "\n",
       "  How much are you satisfied with the quality of Korean media products?  \\\n",
       "0                                          Satisfied                      \n",
       "1                                          Satisfied                      \n",
       "2                 Neither satisfied nor dissatisfied                      \n",
       "3                                          Satisfied                      \n",
       "\n",
       "  Imagine that you meet a South Korean. In your mind, how is the South Korean?  \\\n",
       "0                                      Just a person                             \n",
       "1                                      Just a person                             \n",
       "2                                      Just a person                             \n",
       "3                                        Good person                             \n",
       "\n",
       "  Have you ever visited South Korea before?  \\\n",
       "0                                       Yes   \n",
       "1                                       Yes   \n",
       "2                                       Yes   \n",
       "3                                       Yes   \n",
       "\n",
       "  If YES, do you want to re-visit South Korea again?  \\\n",
       "0                                           Yes อยาก   \n",
       "1                                           Yes อยาก   \n",
       "2                                           Yes อยาก   \n",
       "3                                           Yes อยาก   \n",
       "\n",
       "  If NO, have you ever planned to visit South Korea in the future?  \n",
       "0                                                NaN                \n",
       "1                                           Yes อยาก                \n",
       "2                                           Yes อยาก                \n",
       "3                                           Yes อยาก                "
      ]
     },
     "execution_count": 11,
     "metadata": {},
     "output_type": "execute_result"
    }
   ],
   "source": [
    "data.head(4)"
   ]
  },
  {
   "cell_type": "markdown",
   "metadata": {},
   "source": [
    "__________________"
   ]
  },
  {
   "cell_type": "markdown",
   "metadata": {},
   "source": [
    "## Data Analysis & Data Visualization"
   ]
  },
  {
   "cell_type": "markdown",
   "metadata": {},
   "source": [
    "#### Age"
   ]
  },
  {
   "cell_type": "code",
   "execution_count": 65,
   "metadata": {},
   "outputs": [
    {
     "name": "stdout",
     "output_type": "stream",
     "text": [
      "Sample size :  277\n"
     ]
    }
   ],
   "source": [
    "print('Sample size : ', data.iloc[:, 0].count())"
   ]
  },
  {
   "cell_type": "code",
   "execution_count": 47,
   "metadata": {},
   "outputs": [
    {
     "name": "stdout",
     "output_type": "stream",
     "text": [
      "Min age : 12\n"
     ]
    }
   ],
   "source": [
    "print('Min age :', data.iloc[:, 0].min())"
   ]
  },
  {
   "cell_type": "code",
   "execution_count": 48,
   "metadata": {},
   "outputs": [
    {
     "name": "stdout",
     "output_type": "stream",
     "text": [
      "Max age : 66\n"
     ]
    }
   ],
   "source": [
    "print('Max age :', data.iloc[:, 0].max())"
   ]
  },
  {
   "cell_type": "code",
   "execution_count": 66,
   "metadata": {},
   "outputs": [
    {
     "name": "stdout",
     "output_type": "stream",
     "text": [
      "Ranges of age (Set bin=5) :\n",
      "\n",
      " (20.0, 25.0]     119\n",
      "(15.0, 20.0]      46\n",
      "(35.0, 40.0]      26\n",
      "(25.0, 30.0]      17\n",
      "(50.0, 55.0]      15\n",
      "(40.0, 45.0]      13\n",
      "(30.0, 35.0]      11\n",
      "(9.999, 15.0]     11\n",
      "(45.0, 50.0]       9\n",
      "(55.0, 60.0]       6\n",
      "(60.0, 65.0]       3\n",
      "(65.0, 70.0]       1\n",
      "Name: Age, dtype: int64\n"
     ]
    }
   ],
   "source": [
    "df_age = pd.to_numeric(data.iloc[:, 0])\n",
    "print('Ranges of age (Set bin=5) :\\n\\n', pd.value_counts(df_age, bins=np.arange(10, 71, 5)))"
   ]
  },
  {
   "cell_type": "markdown",
   "metadata": {},
   "source": [
    "#### Gender"
   ]
  },
  {
   "cell_type": "code",
   "execution_count": 24,
   "metadata": {},
   "outputs": [
    {
     "data": {
      "text/plain": [
       "Female    200\n",
       "Male       74\n",
       "Other       3\n",
       "Name: Gender, dtype: int64"
      ]
     },
     "execution_count": 24,
     "metadata": {},
     "output_type": "execute_result"
    }
   ],
   "source": [
    "pd.value_counts(data.iloc[:, 1])"
   ]
  },
  {
   "cell_type": "markdown",
   "metadata": {},
   "source": [
    "#### Residence"
   ]
  },
  {
   "cell_type": "code",
   "execution_count": 25,
   "metadata": {},
   "outputs": [
    {
     "data": {
      "text/plain": [
       "Bangkok         211\n",
       "Other cities     66\n",
       "Name: Residence, dtype: int64"
      ]
     },
     "execution_count": 25,
     "metadata": {},
     "output_type": "execute_result"
    }
   ],
   "source": [
    "pd.value_counts(data.iloc[:, 2])"
   ]
  },
  {
   "cell_type": "markdown",
   "metadata": {},
   "source": [
    "#### Bar plots of Korean media products consumers"
   ]
  },
  {
   "cell_type": "code",
   "execution_count": 20,
   "metadata": {},
   "outputs": [
    {
     "data": {
      "image/png": "[encoded data removed]",
      "text/plain": [
       "<Figure size 1224x360 with 3 Axes>"
      ]
     },
     "metadata": {},
     "output_type": "display_data"
    }
   ],
   "source": [
    "sns.set(style=\"darkgrid\");\n",
    "f, (ax1, ax2, ax3) = plt.subplots(1, 3, figsize=(17, 5), sharey = True);\n",
    "sns.countplot(x=data.iloc[:, 3], data=data, ax=ax1);\n",
    "sns.countplot(x=data.iloc[:, 4], data=data, ax=ax2);\n",
    "sns.countplot(x=data.iloc[:, 5], data=data, ax=ax3);"
   ]
  },
  {
   "cell_type": "code",
   "execution_count": null,
   "metadata": {},
   "outputs": [],
   "source": []
  }
 ],
 "metadata": {
  "kernelspec": {
   "display_name": "Python 3",
   "language": "python",
   "name": "python3"
  },
  "language_info": {
   "codemirror_mode": {
    "name": "ipython",
    "version": 3
   },
   "file_extension": ".py",
   "mimetype": "text/x-python",
   "name": "python",
   "nbconvert_exporter": "python",
   "pygments_lexer": "ipython3",
   "version": "3.6.4"
  }
 },
 "nbformat": 4,
 "nbformat_minor": 2
}
